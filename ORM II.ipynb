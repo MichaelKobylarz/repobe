{
 "cells": [
  {
   "cell_type": "markdown",
   "id": "6144477a",
   "metadata": {},
   "source": [
    "# Django ORM - Praca z danymi (komendy DML i DQL)"
   ]
  },
  {
   "cell_type": "markdown",
   "id": "f54273a4",
   "metadata": {},
   "source": [
    "**Definicje modelu**\n",
    "\n",
    "<code>class Task(models.Model):\n",
    "    name = models.CharField(max_length=64)\n",
    "</code>\n",
    "<code>\n",
    "    def __str__(self):\n",
    "        return f\"{self.name}\"\n",
    "</code>"
   ]
  },
  {
   "cell_type": "code",
   "execution_count": 1,
   "id": "adfe4c55",
   "metadata": {
    "ExecuteTime": {
     "end_time": "2024-08-20T16:04:28.484502400Z",
     "start_time": "2024-08-20T16:04:28.101484600Z"
    }
   },
   "outputs": [],
   "source": [
    "import os\n",
    "import django\n",
    "os.environ.setdefault('DJANGO_SETTINGS_MODULE', 'intro.settings')\n",
    "os.environ[\"DJANGO_ALLOW_ASYNC_UNSAFE\"] = \"true\"\n",
    "django.setup()"
   ]
  },
  {
   "cell_type": "code",
   "execution_count": 2,
   "id": "81e61eff",
   "metadata": {
    "ExecuteTime": {
     "end_time": "2024-08-20T16:04:32.587856800Z",
     "start_time": "2024-08-20T16:04:32.571859700Z"
    }
   },
   "outputs": [],
   "source": [
    "from orm_app.models import Task"
   ]
  },
  {
   "cell_type": "markdown",
   "id": "dd08bad7",
   "metadata": {},
   "source": [
    "## R - Read (CRUD) - DQL (Data Query Language) cd"
   ]
  },
  {
   "cell_type": "markdown",
   "id": "9af4fd03",
   "metadata": {},
   "source": [
    "### Składanie warunków (operator AND)"
   ]
  },
  {
   "cell_type": "markdown",
   "id": "d9435cd9",
   "metadata": {},
   "source": [
    "Wypisywanie kolejnych warunków po przecinku, jako kolejnych parametrów funkcji filter powoduje składanie tych warunków (koniunkcje/iloczyn logiczną) - operator AND."
   ]
  },
  {
   "cell_type": "markdown",
   "id": "3b918055",
   "metadata": {},
   "source": [
    "Znajdż wszystkie wpisy w tabeli Task, które zaczynają się na Pr **i** kończą na anie."
   ]
  },
  {
   "cell_type": "code",
   "execution_count": 3,
   "id": "66bafd32",
   "metadata": {
    "ExecuteTime": {
     "end_time": "2024-08-20T16:04:38.202171700Z",
     "start_time": "2024-08-20T16:04:38.182858300Z"
    }
   },
   "outputs": [
    {
     "name": "stdout",
     "output_type": "stream",
     "text": [
      "<QuerySet [<Task: Programowanie>, <Task: Pranie>, <Task: Programowanie>, <Task: Pranie>]>\n"
     ]
    }
   ],
   "source": [
    "# metoda I\n",
    "task = Task.objects.filter(name__startswith=\"Pr\").filter(name__endswith=\"anie\")\n",
    "\n",
    "# metoda II\n",
    "tasks = Task.objects.filter(name__startswith=\"Pr\", name__endswith=\"anie\")\n",
    "print(tasks)"
   ]
  },
  {
   "cell_type": "markdown",
   "id": "e30c2de8",
   "metadata": {},
   "source": [
    "### Sortowanie - metoda order_by (klauzula ORDER BY)"
   ]
  },
  {
   "cell_type": "markdown",
   "id": "e0c87396",
   "metadata": {},
   "source": [
    "Klauzula ORDER BY implementowana jest w Django przez metodę order_by klasy QuerySet. Metoda order_by jako parametr przyjmuje nazwę kolumny, po której dane mają zostać posortowane. Może przyjąć więcej niż jeden parametr, wtedy wpisy które mają identyczną wartość w pierwszej kolumnie będą sortowane po drugiej wpisanej kolumnie, itd. Wartości w kolumnach tekstowych sortowane są alfabetycznie, a wartości w kolumnach liczbowych numerycznie."
   ]
  },
  {
   "cell_type": "markdown",
   "id": "8cb28680",
   "metadata": {},
   "source": [
    "Posortujemy wpisy w tabeli Task po wartościach w kolumnie name."
   ]
  },
  {
   "cell_type": "code",
   "execution_count": 4,
   "id": "970cf2bd",
   "metadata": {
    "ExecuteTime": {
     "end_time": "2024-08-20T16:05:33.229724700Z",
     "start_time": "2024-08-20T16:05:33.214056900Z"
    }
   },
   "outputs": [
    {
     "name": "stdout",
     "output_type": "stream",
     "text": [
      "9 Dodawanie\n",
      "18 Dodawanie\n",
      "1 GGotowanie\n",
      "2 GGotowanie\n",
      "10 GGotowanie\n",
      "11 GGotowanie\n",
      "3 Gotowanie\n",
      "12 Gotowanie\n",
      "8 Pranie\n",
      "17 Pranie\n",
      "6 Programowanie\n",
      "15 Programowanie\n",
      "19 Smażenie\n",
      "4 Szukanie\n",
      "5 Szukanie\n",
      "13 Szukanie\n",
      "14 Szukanie\n"
     ]
    }
   ],
   "source": [
    "tasks = Task.objects.order_by('name')\n",
    "for task in tasks:\n",
    "    print(f\"{task.id} {task.name}\")"
   ]
  },
  {
   "cell_type": "code",
   "execution_count": 5,
   "id": "86296aca",
   "metadata": {
    "ExecuteTime": {
     "end_time": "2024-08-20T16:05:37.387726Z",
     "start_time": "2024-08-20T16:05:37.370391300Z"
    }
   },
   "outputs": [
    {
     "name": "stdout",
     "output_type": "stream",
     "text": [
      "SELECT \"orm_app_task\".\"id\", \"orm_app_task\".\"name\" FROM \"orm_app_task\" ORDER BY \"orm_app_task\".\"name\" ASC\n"
     ]
    }
   ],
   "source": [
    "# sql?\n",
    "print(tasks.query)"
   ]
  },
  {
   "cell_type": "markdown",
   "id": "00d0f4e5",
   "metadata": {},
   "source": [
    "Posortujmy wpisy w tabeli Task po kolumnie name, a wpisy które mają identyczną wartość w kolumnie name po kolumnie id."
   ]
  },
  {
   "cell_type": "code",
   "execution_count": 6,
   "id": "3e75256a",
   "metadata": {
    "ExecuteTime": {
     "end_time": "2024-08-20T16:05:40.992796700Z",
     "start_time": "2024-08-20T16:05:40.962546500Z"
    }
   },
   "outputs": [
    {
     "name": "stdout",
     "output_type": "stream",
     "text": [
      "9 Dodawanie\n",
      "18 Dodawanie\n",
      "1 GGotowanie\n",
      "2 GGotowanie\n",
      "10 GGotowanie\n",
      "11 GGotowanie\n",
      "3 Gotowanie\n",
      "12 Gotowanie\n",
      "8 Pranie\n",
      "17 Pranie\n",
      "6 Programowanie\n",
      "15 Programowanie\n",
      "19 Smażenie\n",
      "4 Szukanie\n",
      "5 Szukanie\n",
      "13 Szukanie\n",
      "14 Szukanie\n"
     ]
    }
   ],
   "source": [
    "tasks = Task.objects.order_by('name', 'id')\n",
    "for task in tasks:\n",
    "    print(f\"{task.id} {task.name}\")"
   ]
  },
  {
   "cell_type": "markdown",
   "id": "cf0eb7c2",
   "metadata": {},
   "source": [
    "#### Sortowanie odwrotne - Metoda I (metoda reverse)"
   ]
  },
  {
   "cell_type": "markdown",
   "id": "775558f4",
   "metadata": {},
   "source": [
    "Sortować w kolejności odwrotnej możemy z użyciem metody reverse()"
   ]
  },
  {
   "cell_type": "code",
   "execution_count": 7,
   "id": "630cecf3",
   "metadata": {
    "ExecuteTime": {
     "end_time": "2024-08-20T16:05:44.235899700Z",
     "start_time": "2024-08-20T16:05:44.192130800Z"
    }
   },
   "outputs": [
    {
     "name": "stdout",
     "output_type": "stream",
     "text": [
      "4 Szukanie\n",
      "5 Szukanie\n",
      "13 Szukanie\n",
      "14 Szukanie\n",
      "19 Smażenie\n",
      "6 Programowanie\n",
      "15 Programowanie\n",
      "8 Pranie\n",
      "17 Pranie\n",
      "3 Gotowanie\n",
      "12 Gotowanie\n",
      "1 GGotowanie\n",
      "2 GGotowanie\n",
      "10 GGotowanie\n",
      "11 GGotowanie\n",
      "9 Dodawanie\n",
      "18 Dodawanie\n"
     ]
    }
   ],
   "source": [
    "tasks = Task.objects.order_by('name').reverse()\n",
    "for task in tasks:\n",
    "    print(f\"{task.id} {task.name}\")"
   ]
  },
  {
   "cell_type": "code",
   "execution_count": 8,
   "id": "d5995da2",
   "metadata": {},
   "outputs": [
    {
     "name": "stdout",
     "output_type": "stream",
     "text": [
      "SELECT \"orm_app_task\".\"id\", \"orm_app_task\".\"name\" FROM \"orm_app_task\" ORDER BY \"orm_app_task\".\"name\" DESC\n"
     ]
    }
   ],
   "source": [
    "print(tasks.query)"
   ]
  },
  {
   "cell_type": "markdown",
   "id": "e98e0e94",
   "metadata": {},
   "source": [
    "#### Sortowanie odwrotne - Metoda II (nazwa kolumny)"
   ]
  },
  {
   "cell_type": "markdown",
   "id": "90b7a866",
   "metadata": {},
   "source": [
    "lub poprzez wstawienie przed nazwą kolumny minusa."
   ]
  },
  {
   "cell_type": "code",
   "execution_count": 8,
   "id": "397b309a",
   "metadata": {
    "ExecuteTime": {
     "end_time": "2024-08-20T16:05:46.775925500Z",
     "start_time": "2024-08-20T16:05:46.756943700Z"
    }
   },
   "outputs": [
    {
     "name": "stdout",
     "output_type": "stream",
     "text": [
      "4 Szukanie\n",
      "5 Szukanie\n",
      "13 Szukanie\n",
      "14 Szukanie\n",
      "19 Smażenie\n",
      "6 Programowanie\n",
      "15 Programowanie\n",
      "8 Pranie\n",
      "17 Pranie\n",
      "3 Gotowanie\n",
      "12 Gotowanie\n",
      "1 GGotowanie\n",
      "2 GGotowanie\n",
      "10 GGotowanie\n",
      "11 GGotowanie\n",
      "9 Dodawanie\n",
      "18 Dodawanie\n"
     ]
    }
   ],
   "source": [
    "tasks = Task.objects.order_by('-name')\n",
    "for task in tasks:\n",
    "    print(f\"{task.id} {task.name}\")"
   ]
  },
  {
   "cell_type": "markdown",
   "id": "61c2d646",
   "metadata": {},
   "source": [
    "### Funkcja agregujące"
   ]
  },
  {
   "cell_type": "markdown",
   "id": "ec8a3c23",
   "metadata": {},
   "source": [
    "Funkcje agregujące w sql to operatory, które wykonują na wskazanych danych proste statystyki takie jak średnia, wartość maksymalna, suma czy liczba wpisów (SUM, AVG, MIN, MAX, COUNT). W Django funkcje agregujące realizowane są przez metodę aggregate. Metoda aggregate jako parametr przyjmuje wywołanie odpowiedniej klasy z modułu django.db.models (Sum, Avg, Min, Max, Count, ...)."
   ]
  },
  {
   "cell_type": "markdown",
   "id": "e06c00fe",
   "metadata": {},
   "source": [
    "Znajdź sumę indeksów wszystkich wpisów tabeli Task. "
   ]
  },
  {
   "cell_type": "code",
   "execution_count": 9,
   "id": "d422baaf",
   "metadata": {
    "ExecuteTime": {
     "end_time": "2024-08-20T16:05:51.507704600Z",
     "start_time": "2024-08-20T16:05:51.477305600Z"
    }
   },
   "outputs": [
    {
     "name": "stdout",
     "output_type": "stream",
     "text": [
      "{'id__sum': 167}\n"
     ]
    }
   ],
   "source": [
    "from django.db.models import Sum\n",
    "\n",
    "a_sum = Task.objects.aggregate(Sum('id'))\n",
    "print(a_sum)"
   ]
  },
  {
   "cell_type": "markdown",
   "id": "adff4130",
   "metadata": {},
   "source": [
    "Funkcja agregująca zwraca słownik z kluczem \n",
    "< nazwa_kolumny_wzdluz_ktorej_zachodzi_agregacja >_ _<nazwa_funkcji_agregującej> oraz wartością będąca wyliczoną statystyką."
   ]
  },
  {
   "cell_type": "markdown",
   "id": "9502e4a8",
   "metadata": {},
   "source": [
    "Znajdź średnią wartość indeksu wpisów tabeli Task o wartości w kolumnie name \"Szukanie\""
   ]
  },
  {
   "cell_type": "code",
   "execution_count": 10,
   "id": "756a3310",
   "metadata": {
    "ExecuteTime": {
     "end_time": "2024-08-20T16:05:55.063647300Z",
     "start_time": "2024-08-20T16:05:55.039529100Z"
    }
   },
   "outputs": [
    {
     "name": "stdout",
     "output_type": "stream",
     "text": [
      "{'id__avg': 9.0}\n"
     ]
    }
   ],
   "source": [
    "from django.db.models import Avg\n",
    "\n",
    "avg = Task.objects.filter(name=\"Szukanie\").aggregate(Avg('id'))\n",
    "print(avg)"
   ]
  },
  {
   "cell_type": "markdown",
   "id": "b9bd1611",
   "metadata": {},
   "source": [
    "## U - UPDATE (CRUD) - DML (Data Manipulation Language)"
   ]
  },
  {
   "cell_type": "markdown",
   "id": "0d8cf797",
   "metadata": {},
   "source": [
    "### Klauzula UPDATE"
   ]
  },
  {
   "cell_type": "code",
   "execution_count": 11,
   "id": "fecee9a8",
   "metadata": {
    "ExecuteTime": {
     "end_time": "2024-08-20T16:06:00.928722600Z",
     "start_time": "2024-08-20T16:06:00.900540500Z"
    }
   },
   "outputs": [
    {
     "name": "stdout",
     "output_type": "stream",
     "text": [
      "1\n"
     ]
    }
   ],
   "source": [
    "# Metoda I - metoda update mandżera modelu (i QuerySet-a)\n",
    "# UWAGA! Dane należy najperw przefiltrować, żeby jednym zapytanie NIE ZMIENIĆ WSZYSTKICH wpisów \n",
    "# w tabeli.\n",
    "\n",
    "tasks = Task.objects.filter(name__endswith=\"enie\").update(name=\"GGotowanie\")\n",
    "print(tasks)"
   ]
  },
  {
   "cell_type": "markdown",
   "id": "9bd74f21",
   "metadata": {},
   "source": [
    "Widzimy, że metoda update nie zwraca nam obiektu klasy QuerySet tylko liczbę zmodyfikowanych wpisów."
   ]
  },
  {
   "cell_type": "code",
   "execution_count": 12,
   "id": "599e99c7",
   "metadata": {
    "ExecuteTime": {
     "end_time": "2024-08-20T16:06:07.234980400Z",
     "start_time": "2024-08-20T16:06:06.390549700Z"
    }
   },
   "outputs": [
    {
     "ename": "MultipleObjectsReturned",
     "evalue": "get() returned more than one Task -- it returned 2!",
     "output_type": "error",
     "traceback": [
      "\u001B[1;31m---------------------------------------------------------------------------\u001B[0m",
      "\u001B[1;31mMultipleObjectsReturned\u001B[0m                   Traceback (most recent call last)",
      "Cell \u001B[1;32mIn[12], line 3\u001B[0m\n\u001B[0;32m      1\u001B[0m \u001B[38;5;66;03m# Metoda II - bezpośrednia modyfikacja wartości atrybutu instancji modelu\u001B[39;00m\n\u001B[1;32m----> 3\u001B[0m task \u001B[38;5;241m=\u001B[39m \u001B[43mTask\u001B[49m\u001B[38;5;241;43m.\u001B[39;49m\u001B[43mobjects\u001B[49m\u001B[38;5;241;43m.\u001B[39;49m\u001B[43mget\u001B[49m\u001B[43m(\u001B[49m\u001B[43mname\u001B[49m\u001B[38;5;241;43m=\u001B[39;49m\u001B[38;5;124;43m\"\u001B[39;49m\u001B[38;5;124;43mDodawanie\u001B[39;49m\u001B[38;5;124;43m\"\u001B[39;49m\u001B[43m)\u001B[49m\n\u001B[0;32m      4\u001B[0m task\u001B[38;5;241m.\u001B[39mname \u001B[38;5;241m=\u001B[39m \u001B[38;5;124m\"\u001B[39m\u001B[38;5;124mOdejmowanie\u001B[39m\u001B[38;5;124m\"\u001B[39m\n\u001B[0;32m      5\u001B[0m task\u001B[38;5;241m.\u001B[39msave()\n",
      "File \u001B[1;32m~\\PycharmProjects\\repobe\\venv\\Lib\\site-packages\\django\\db\\models\\manager.py:87\u001B[0m, in \u001B[0;36mBaseManager._get_queryset_methods.<locals>.create_method.<locals>.manager_method\u001B[1;34m(self, *args, **kwargs)\u001B[0m\n\u001B[0;32m     85\u001B[0m \u001B[38;5;129m@wraps\u001B[39m(method)\n\u001B[0;32m     86\u001B[0m \u001B[38;5;28;01mdef\u001B[39;00m \u001B[38;5;21mmanager_method\u001B[39m(\u001B[38;5;28mself\u001B[39m, \u001B[38;5;241m*\u001B[39margs, \u001B[38;5;241m*\u001B[39m\u001B[38;5;241m*\u001B[39mkwargs):\n\u001B[1;32m---> 87\u001B[0m     \u001B[38;5;28;01mreturn\u001B[39;00m \u001B[38;5;28;43mgetattr\u001B[39;49m\u001B[43m(\u001B[49m\u001B[38;5;28;43mself\u001B[39;49m\u001B[38;5;241;43m.\u001B[39;49m\u001B[43mget_queryset\u001B[49m\u001B[43m(\u001B[49m\u001B[43m)\u001B[49m\u001B[43m,\u001B[49m\u001B[43m \u001B[49m\u001B[43mname\u001B[49m\u001B[43m)\u001B[49m\u001B[43m(\u001B[49m\u001B[38;5;241;43m*\u001B[39;49m\u001B[43margs\u001B[49m\u001B[43m,\u001B[49m\u001B[43m \u001B[49m\u001B[38;5;241;43m*\u001B[39;49m\u001B[38;5;241;43m*\u001B[39;49m\u001B[43mkwargs\u001B[49m\u001B[43m)\u001B[49m\n",
      "File \u001B[1;32m~\\PycharmProjects\\repobe\\venv\\Lib\\site-packages\\django\\db\\models\\query.py:652\u001B[0m, in \u001B[0;36mQuerySet.get\u001B[1;34m(self, *args, **kwargs)\u001B[0m\n\u001B[0;32m    648\u001B[0m \u001B[38;5;28;01mif\u001B[39;00m \u001B[38;5;129;01mnot\u001B[39;00m num:\n\u001B[0;32m    649\u001B[0m     \u001B[38;5;28;01mraise\u001B[39;00m \u001B[38;5;28mself\u001B[39m\u001B[38;5;241m.\u001B[39mmodel\u001B[38;5;241m.\u001B[39mDoesNotExist(\n\u001B[0;32m    650\u001B[0m         \u001B[38;5;124m\"\u001B[39m\u001B[38;5;132;01m%s\u001B[39;00m\u001B[38;5;124m matching query does not exist.\u001B[39m\u001B[38;5;124m\"\u001B[39m \u001B[38;5;241m%\u001B[39m \u001B[38;5;28mself\u001B[39m\u001B[38;5;241m.\u001B[39mmodel\u001B[38;5;241m.\u001B[39m_meta\u001B[38;5;241m.\u001B[39mobject_name\n\u001B[0;32m    651\u001B[0m     )\n\u001B[1;32m--> 652\u001B[0m \u001B[38;5;28;01mraise\u001B[39;00m \u001B[38;5;28mself\u001B[39m\u001B[38;5;241m.\u001B[39mmodel\u001B[38;5;241m.\u001B[39mMultipleObjectsReturned(\n\u001B[0;32m    653\u001B[0m     \u001B[38;5;124m\"\u001B[39m\u001B[38;5;124mget() returned more than one \u001B[39m\u001B[38;5;132;01m%s\u001B[39;00m\u001B[38;5;124m -- it returned \u001B[39m\u001B[38;5;132;01m%s\u001B[39;00m\u001B[38;5;124m!\u001B[39m\u001B[38;5;124m\"\u001B[39m\n\u001B[0;32m    654\u001B[0m     \u001B[38;5;241m%\u001B[39m (\n\u001B[0;32m    655\u001B[0m         \u001B[38;5;28mself\u001B[39m\u001B[38;5;241m.\u001B[39mmodel\u001B[38;5;241m.\u001B[39m_meta\u001B[38;5;241m.\u001B[39mobject_name,\n\u001B[0;32m    656\u001B[0m         num \u001B[38;5;28;01mif\u001B[39;00m \u001B[38;5;129;01mnot\u001B[39;00m limit \u001B[38;5;129;01mor\u001B[39;00m num \u001B[38;5;241m<\u001B[39m limit \u001B[38;5;28;01melse\u001B[39;00m \u001B[38;5;124m\"\u001B[39m\u001B[38;5;124mmore than \u001B[39m\u001B[38;5;132;01m%s\u001B[39;00m\u001B[38;5;124m\"\u001B[39m \u001B[38;5;241m%\u001B[39m (limit \u001B[38;5;241m-\u001B[39m \u001B[38;5;241m1\u001B[39m),\n\u001B[0;32m    657\u001B[0m     )\n\u001B[0;32m    658\u001B[0m )\n",
      "\u001B[1;31mMultipleObjectsReturned\u001B[0m: get() returned more than one Task -- it returned 2!"
     ]
    }
   ],
   "source": [
    "# Metoda II - bezpośrednia modyfikacja wartości atrybutu instancji modelu\n",
    "\n",
    "task = Task.objects.get(name=\"Dodawanie\")\n",
    "task.name = \"Odejmowanie\"\n",
    "task.save()"
   ]
  },
  {
   "cell_type": "markdown",
   "id": "c6abd166",
   "metadata": {},
   "source": [
    "## D - DELETE (CRUD) - DML (DATA Manipulation Language)"
   ]
  },
  {
   "cell_type": "markdown",
   "id": "03db1d66",
   "metadata": {},
   "source": [
    "### Klauzula DELETE"
   ]
  },
  {
   "cell_type": "code",
   "execution_count": 13,
   "id": "2f524fa8",
   "metadata": {
    "ExecuteTime": {
     "end_time": "2024-08-20T16:06:09.852757900Z",
     "start_time": "2024-08-20T16:06:09.842854700Z"
    }
   },
   "outputs": [
    {
     "name": "stdout",
     "output_type": "stream",
     "text": [
      "(0, {})\n"
     ]
    }
   ],
   "source": [
    "# Metoda I - metoda delete menadżera modelu (i QuerySet-a)\n",
    "# UWAGA! Dane należy najperw przefiltrować, żeby jednym zapytanie NIE USUNĄĆ WSZYSTKICH wpisów \n",
    "# w tabeli.\n",
    "\n",
    "task = Task.objects.filter(name=\"Pływanie\").delete()\n",
    "print(task)"
   ]
  },
  {
   "cell_type": "markdown",
   "id": "e51f9359",
   "metadata": {},
   "source": [
    "Podobnie jak metoda update, metoda delete nie zwraca nam obiektu klasy Queryset tylko informacje o liczbie usuniętych wpisów (tym razem w postaci tupli, której pierwszy element to całkowita liczba usuniętych wpisów, a drugi element to słownik z kluczami będącymi nazwami modelu i wartościami będącymi liczbą usuniętych w danym modelu wpisów)."
   ]
  },
  {
   "cell_type": "code",
   "execution_count": 16,
   "id": "c5934a2f",
   "metadata": {},
   "outputs": [
    {
     "ename": "DoesNotExist",
     "evalue": "Task matching query does not exist.",
     "output_type": "error",
     "traceback": [
      "\u001B[1;31m---------------------------------------------------------------------------\u001B[0m",
      "\u001B[1;31mDoesNotExist\u001B[0m                              Traceback (most recent call last)",
      "Cell \u001B[1;32mIn[16], line 3\u001B[0m\n\u001B[0;32m      1\u001B[0m \u001B[38;5;66;03m# Metoda II - metoda delete instancji modelu\u001B[39;00m\n\u001B[1;32m----> 3\u001B[0m task \u001B[38;5;241m=\u001B[39m \u001B[43mTask\u001B[49m\u001B[38;5;241;43m.\u001B[39;49m\u001B[43mobjects\u001B[49m\u001B[38;5;241;43m.\u001B[39;49m\u001B[43mget\u001B[49m\u001B[43m(\u001B[49m\u001B[43mname\u001B[49m\u001B[38;5;241;43m=\u001B[39;49m\u001B[38;5;124;43m\"\u001B[39;49m\u001B[38;5;124;43mOdejmowanie\u001B[39;49m\u001B[38;5;124;43m\"\u001B[39;49m\u001B[43m)\u001B[49m\n\u001B[0;32m      4\u001B[0m task\u001B[38;5;241m.\u001B[39mdelete()\n",
      "File \u001B[1;32m~\\PycharmProjects\\repobe\\venv\\Lib\\site-packages\\django\\db\\models\\manager.py:87\u001B[0m, in \u001B[0;36mBaseManager._get_queryset_methods.<locals>.create_method.<locals>.manager_method\u001B[1;34m(self, *args, **kwargs)\u001B[0m\n\u001B[0;32m     85\u001B[0m \u001B[38;5;129m@wraps\u001B[39m(method)\n\u001B[0;32m     86\u001B[0m \u001B[38;5;28;01mdef\u001B[39;00m \u001B[38;5;21mmanager_method\u001B[39m(\u001B[38;5;28mself\u001B[39m, \u001B[38;5;241m*\u001B[39margs, \u001B[38;5;241m*\u001B[39m\u001B[38;5;241m*\u001B[39mkwargs):\n\u001B[1;32m---> 87\u001B[0m     \u001B[38;5;28;01mreturn\u001B[39;00m \u001B[38;5;28;43mgetattr\u001B[39;49m\u001B[43m(\u001B[49m\u001B[38;5;28;43mself\u001B[39;49m\u001B[38;5;241;43m.\u001B[39;49m\u001B[43mget_queryset\u001B[49m\u001B[43m(\u001B[49m\u001B[43m)\u001B[49m\u001B[43m,\u001B[49m\u001B[43m \u001B[49m\u001B[43mname\u001B[49m\u001B[43m)\u001B[49m\u001B[43m(\u001B[49m\u001B[38;5;241;43m*\u001B[39;49m\u001B[43margs\u001B[49m\u001B[43m,\u001B[49m\u001B[43m \u001B[49m\u001B[38;5;241;43m*\u001B[39;49m\u001B[38;5;241;43m*\u001B[39;49m\u001B[43mkwargs\u001B[49m\u001B[43m)\u001B[49m\n",
      "File \u001B[1;32m~\\PycharmProjects\\repobe\\venv\\Lib\\site-packages\\django\\db\\models\\query.py:649\u001B[0m, in \u001B[0;36mQuerySet.get\u001B[1;34m(self, *args, **kwargs)\u001B[0m\n\u001B[0;32m    647\u001B[0m     \u001B[38;5;28;01mreturn\u001B[39;00m clone\u001B[38;5;241m.\u001B[39m_result_cache[\u001B[38;5;241m0\u001B[39m]\n\u001B[0;32m    648\u001B[0m \u001B[38;5;28;01mif\u001B[39;00m \u001B[38;5;129;01mnot\u001B[39;00m num:\n\u001B[1;32m--> 649\u001B[0m     \u001B[38;5;28;01mraise\u001B[39;00m \u001B[38;5;28mself\u001B[39m\u001B[38;5;241m.\u001B[39mmodel\u001B[38;5;241m.\u001B[39mDoesNotExist(\n\u001B[0;32m    650\u001B[0m         \u001B[38;5;124m\"\u001B[39m\u001B[38;5;132;01m%s\u001B[39;00m\u001B[38;5;124m matching query does not exist.\u001B[39m\u001B[38;5;124m\"\u001B[39m \u001B[38;5;241m%\u001B[39m \u001B[38;5;28mself\u001B[39m\u001B[38;5;241m.\u001B[39mmodel\u001B[38;5;241m.\u001B[39m_meta\u001B[38;5;241m.\u001B[39mobject_name\n\u001B[0;32m    651\u001B[0m     )\n\u001B[0;32m    652\u001B[0m \u001B[38;5;28;01mraise\u001B[39;00m \u001B[38;5;28mself\u001B[39m\u001B[38;5;241m.\u001B[39mmodel\u001B[38;5;241m.\u001B[39mMultipleObjectsReturned(\n\u001B[0;32m    653\u001B[0m     \u001B[38;5;124m\"\u001B[39m\u001B[38;5;124mget() returned more than one \u001B[39m\u001B[38;5;132;01m%s\u001B[39;00m\u001B[38;5;124m -- it returned \u001B[39m\u001B[38;5;132;01m%s\u001B[39;00m\u001B[38;5;124m!\u001B[39m\u001B[38;5;124m\"\u001B[39m\n\u001B[0;32m    654\u001B[0m     \u001B[38;5;241m%\u001B[39m (\n\u001B[1;32m   (...)\u001B[0m\n\u001B[0;32m    657\u001B[0m     )\n\u001B[0;32m    658\u001B[0m )\n",
      "\u001B[1;31mDoesNotExist\u001B[0m: Task matching query does not exist."
     ]
    }
   ],
   "source": [
    "# Metoda II - metoda delete instancji modelu\n",
    "\n",
    "task = Task.objects.get(name=\"Odejmowanie\")\n",
    "task.delete()"
   ]
  },
  {
   "cell_type": "markdown",
   "id": "b4b7d85e",
   "metadata": {},
   "source": [
    "Metoda delete instancji modelu zwraca nam identyczną odpowiedź co metoda delete menadżera modelu (i Queryset-a)"
   ]
  },
  {
   "cell_type": "code",
   "execution_count": null,
   "id": "c9f45cdd-6454-48f3-8553-48355c7bd52d",
   "metadata": {},
   "outputs": [],
   "source": []
  }
 ],
 "metadata": {
  "kernelspec": {
   "display_name": "Python 3 (ipykernel)",
   "language": "python",
   "name": "python3"
  },
  "language_info": {
   "codemirror_mode": {
    "name": "ipython",
    "version": 3
   },
   "file_extension": ".py",
   "mimetype": "text/x-python",
   "name": "python",
   "nbconvert_exporter": "python",
   "pygments_lexer": "ipython3",
   "version": "3.12.2"
  }
 },
 "nbformat": 4,
 "nbformat_minor": 5
}
