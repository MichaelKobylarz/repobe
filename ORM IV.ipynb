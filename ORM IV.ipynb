{
 "cells": [
  {
   "cell_type": "markdown",
   "id": "9a3ccb7a",
   "metadata": {},
   "source": [
    "# Rozszerzenie relacji M2M"
   ]
  },
  {
   "cell_type": "markdown",
   "id": "aed61773",
   "metadata": {},
   "source": [
    "Czasami chcemy rozszerzyć informacje o jakimś powiazaniu. Może to być np. informacja o dacie złożenia zamówienia przez klienta (to najczęściej będzie o2m, ponieważ klient najczęściej może mieć wiele zamówień, jedno zamówienie najczęściej może być przypisane tylko do jednego klienta) lub informacja o wysokości zakonktraktowanej gaży aktora za występ w filmie (to już będzie m2m). O ile w przypadku realcji o2o i o2m takie rozszerzenie poleg na dodaniu kolejnej kolumny w tabeli, w której umieściliśmy powiązanie, o tyle w przypadku relacji m2m dodatkową kolumnę umieszczamy w tabeli pośredniej. \n",
    "\n",
    "Tworząc relacje m2m w Django nie przejmowaliśmy się tabelą pośrednią. Wiemy, że Django wygeneruje taką tabelę automatycznie. Niestety, jeżeli chcemy rozszerzyć relacje m2m o dodatkową kolumnę to sami musimy już zdefniować tabelkę pośrednią i przypisać jej odpowiednie kolumny. W tym celu tworzymy tzw. model pośredni (ang. **intermediate model**)"
   ]
  },
  {
   "cell_type": "markdown",
   "id": "d2e5ea8d",
   "metadata": {},
   "source": [
    "W przykładzie (zaczerpniętym z dokumentacji Django) mamy dwie tabele - Person i Band.\n",
    "\n",
    "\n",
    "<code>class Person(models.Model):\n",
    "    name = models.CharField(max_length=128)\n",
    "</code>\n",
    "<code>\n",
    "    def __str__(self):\n",
    "        return self.name\n",
    "</code>\n",
    "\n",
    "\n",
    "<code>class Band(models.Model):\n",
    "    name = models.CharField(max_length=128)\n",
    "</code>\n",
    "<code>\n",
    "    def __str__(self):\n",
    "        return self.name\n",
    "</code>"
   ]
  },
  {
   "cell_type": "markdown",
   "id": "03f5d022",
   "metadata": {},
   "source": [
    "Osoba może wchodzić w skład wielu zespołów, a zespół może składać się z wielu osób. Dodajemy relacji m2m (po stronie zespołu).\n",
    "\n",
    "<code>class Person(models.Model):\n",
    "    name = models.CharField(max_length=128)\n",
    "</code>\n",
    "<code>\n",
    "    def __str__(self):\n",
    "        return self.name\n",
    "</code>\n",
    "\n",
    "\n",
    "<code>class Band(models.Model):\n",
    "    name = models.CharField(max_length=128)\n",
    "    members = models.ManyToManyField(Person)\n",
    "</code>\n",
    "<code>\n",
    "    def __str__(self):\n",
    "        return self.name\n",
    "</code>"
   ]
  },
  {
   "cell_type": "markdown",
   "id": "6dcf90a0",
   "metadata": {},
   "source": [
    "I teraz załóżmy, że dodatkowo chcemy przechować też informacje o dacie dołączenia osoby do zespołu. Taka informacja będzie dotyczyła powiązania (tzn. data dotyczyć będzie połączenia konkretnej osoby z konkretnym zespołem), a nie samej osoby lub samego zespołu. W tym celu defniujemy model pośredni, nazywamy go Membership i umieszczajamy w nim wszystkie potrzebne kolumny. Następnie za pomocą parametru `through`, w polu ManyToManyField wskazujemy, że to pole ManyToManyField realizowane jest poprzez model pośredni `Membership`."
   ]
  },
  {
   "cell_type": "markdown",
   "id": "68b888f2",
   "metadata": {},
   "source": [
    "### Pełny przykład\n",
    "\n",
    "<code>class Person(models.Model):\n",
    "    name = models.CharField(max_length=128)\n",
    "</code>\n",
    "<code>\n",
    "    def __str__(self):\n",
    "        return self.name\n",
    "</code>\n",
    "\n",
    "\n",
    "<code>class Band(models.Model):\n",
    "    name = models.CharField(max_length=128)\n",
    "    members = models.ManyToManyField(Person, through='Membership')\n",
    "</code>\n",
    "<code>\n",
    "    def __str__(self):\n",
    "        return self.name\n",
    "</code>\n",
    "\n",
    "<code>class Membership(models.Model):\n",
    "    person = models.ForeignKey(Person, on_delete=models.CASCADE)\n",
    "    group = models.ForeignKey(Band, on_delete=models.CASCADE)\n",
    "    date_joined = models.DateField()\n",
    "</code>"
   ]
  },
  {
   "cell_type": "markdown",
   "id": "f1b49c1c",
   "metadata": {},
   "source": [
    "Jeżeli nie masz powyższego przykładu w swoim projekcie, przeklej go (do pliku models.py aplikacji `orm_app`), a następnie przygotuj i wykonaj migracje. W dalszej części notatnika będziemy korzystać ze wszystkich trzech modeli."
   ]
  },
  {
   "cell_type": "markdown",
   "id": "2deeec29",
   "metadata": {},
   "source": [
    "Standradowo, najpierw linijki, które pozwolą nam swobodnie korzystać z Django w notatniku Jupyter."
   ]
  },
  {
   "cell_type": "code",
   "execution_count": 1,
   "id": "34af9308",
   "metadata": {},
   "outputs": [],
   "source": [
    "import os\n",
    "import django\n",
    "os.environ.setdefault('DJANGO_SETTINGS_MODULE', 'intro.settings')\n",
    "os.environ[\"DJANGO_ALLOW_ASYNC_UNSAFE\"] = \"true\"\n",
    "django.setup()"
   ]
  },
  {
   "cell_type": "markdown",
   "id": "14b41419",
   "metadata": {},
   "source": [
    "Importujemy potrzebne biblioteki i modele"
   ]
  },
  {
   "cell_type": "code",
   "execution_count": 9,
   "id": "a4923676",
   "metadata": {},
   "outputs": [],
   "source": [
    "from datetime import date\n",
    "\n",
    "from orm_app.models import Person, Band, Membership"
   ]
  },
  {
   "cell_type": "markdown",
   "id": "153557cd",
   "metadata": {},
   "source": [
    "**C z CRUD**"
   ]
  },
  {
   "cell_type": "code",
   "execution_count": 4,
   "id": "a059188c",
   "metadata": {},
   "outputs": [],
   "source": [
    "# Tworzymy wpisy Ringo Starr, John Lennon i Paul McCartney w tabeli Person i wpis The Beatles w tabeli Band\n",
    "ringo = Person.objects.create(name=\"Ringo Starr\")\n",
    "john = Person.objects.create(name=\"John Lennon\")\n",
    "paul = Person.objects.create(name=\"Paul McCartney\")\n",
    "\n",
    "beatles = Band.objects.create(name=\"The Beatles\")"
   ]
  },
  {
   "cell_type": "markdown",
   "id": "a9423b7b",
   "metadata": {},
   "source": [
    "Popatrzmy na utwrzone obiekty"
   ]
  },
  {
   "cell_type": "code",
   "execution_count": 5,
   "id": "5859d298",
   "metadata": {},
   "outputs": [
    {
     "name": "stdout",
     "output_type": "stream",
     "text": [
      "['DoesNotExist', 'MultipleObjectsReturned', '__class__', '__delattr__', '__dict__', '__dir__', '__doc__', '__eq__', '__format__', '__ge__', '__getattribute__', '__getstate__', '__gt__', '__hash__', '__init__', '__init_subclass__', '__le__', '__lt__', '__module__', '__ne__', '__new__', '__reduce__', '__reduce_ex__', '__repr__', '__setattr__', '__setstate__', '__sizeof__', '__str__', '__subclasshook__', '__weakref__', '_check_column_name_clashes', '_check_constraints', '_check_db_table_comment', '_check_default_pk', '_check_field_name_clashes', '_check_fields', '_check_id_field', '_check_indexes', '_check_local_fields', '_check_long_column_names', '_check_m2m_through_same_relationship', '_check_managers', '_check_model', '_check_model_name_db_lookup_clashes', '_check_ordering', '_check_property_name_related_field_accessor_clashes', '_check_single_primary_key', '_check_swappable', '_check_unique_together', '_do_insert', '_do_update', '_get_FIELD_display', '_get_expr_references', '_get_field_expression_map', '_get_next_or_previous_by_FIELD', '_get_next_or_previous_in_order', '_get_pk_val', '_get_unique_checks', '_meta', '_parse_params', '_perform_date_checks', '_perform_unique_checks', '_prepare_related_fields_for_save', '_save_parents', '_save_table', '_set_pk_val', '_state', '_validate_force_insert', 'adelete', 'arefresh_from_db', 'asave', 'check', 'clean', 'clean_fields', 'date_error_message', 'delete', 'from_db', 'full_clean', 'get_constraints', 'get_deferred_fields', 'id', 'members', 'membership_set', 'name', 'objects', 'pk', 'prepare_database_save', 'refresh_from_db', 'save', 'save_base', 'serializable_value', 'str', 'unique_error_message', 'validate_constraints', 'validate_unique']\n"
     ]
    }
   ],
   "source": [
    "print(dir(beatles))  # widzimy menadżer powiązany - members"
   ]
  },
  {
   "cell_type": "code",
   "execution_count": 6,
   "id": "a4159e3a",
   "metadata": {},
   "outputs": [
    {
     "name": "stdout",
     "output_type": "stream",
     "text": [
      "['DoesNotExist', 'MultipleObjectsReturned', '__class__', '__delattr__', '__dict__', '__dir__', '__doc__', '__eq__', '__format__', '__ge__', '__getattribute__', '__getstate__', '__gt__', '__hash__', '__init__', '__init_subclass__', '__le__', '__lt__', '__module__', '__ne__', '__new__', '__reduce__', '__reduce_ex__', '__repr__', '__setattr__', '__setstate__', '__sizeof__', '__str__', '__subclasshook__', '__weakref__', '_check_column_name_clashes', '_check_constraints', '_check_db_table_comment', '_check_default_pk', '_check_field_name_clashes', '_check_fields', '_check_id_field', '_check_indexes', '_check_local_fields', '_check_long_column_names', '_check_m2m_through_same_relationship', '_check_managers', '_check_model', '_check_model_name_db_lookup_clashes', '_check_ordering', '_check_property_name_related_field_accessor_clashes', '_check_single_primary_key', '_check_swappable', '_check_unique_together', '_do_insert', '_do_update', '_get_FIELD_display', '_get_expr_references', '_get_field_expression_map', '_get_next_or_previous_by_FIELD', '_get_next_or_previous_in_order', '_get_pk_val', '_get_unique_checks', '_meta', '_parse_params', '_perform_date_checks', '_perform_unique_checks', '_prepare_related_fields_for_save', '_save_parents', '_save_table', '_set_pk_val', '_state', '_validate_force_insert', 'adelete', 'arefresh_from_db', 'asave', 'band_set', 'check', 'clean', 'clean_fields', 'date_error_message', 'delete', 'from_db', 'full_clean', 'get_constraints', 'get_deferred_fields', 'id', 'membership_set', 'name', 'objects', 'pk', 'prepare_database_save', 'refresh_from_db', 'save', 'save_base', 'serializable_value', 'str', 'unique_error_message', 'validate_constraints', 'validate_unique']\n"
     ]
    }
   ],
   "source": [
    "print(dir(paul))  # widzimy menadżer powiązany - band_set"
   ]
  },
  {
   "cell_type": "markdown",
   "id": "4e62186c",
   "metadata": {},
   "source": [
    "W obu modelach poza poznanym już wcześniej menadżerem powiązanym mamy też menadżer powiązany do modelu pośredniego - membership_set"
   ]
  },
  {
   "cell_type": "markdown",
   "id": "3dfef7d3",
   "metadata": {},
   "source": [
    "Dodajemy powiązanie z zespołem"
   ]
  },
  {
   "cell_type": "code",
   "execution_count": 10,
   "id": "997899b5",
   "metadata": {},
   "outputs": [
    {
     "ename": "TypeError",
     "evalue": "Membership() got unexpected keyword arguments: 'band'",
     "output_type": "error",
     "traceback": [
      "\u001b[1;31m---------------------------------------------------------------------------\u001b[0m",
      "\u001b[1;31mTypeError\u001b[0m                                 Traceback (most recent call last)",
      "Cell \u001b[1;32mIn[10], line 2\u001b[0m\n\u001b[0;32m      1\u001b[0m \u001b[38;5;66;03m# Version I (bezpośrednie użycie modelu pośredniego)\u001b[39;00m\n\u001b[1;32m----> 2\u001b[0m m1 \u001b[38;5;241m=\u001b[39m \u001b[43mMembership\u001b[49m\u001b[43m(\u001b[49m\u001b[43mperson\u001b[49m\u001b[38;5;241;43m=\u001b[39;49m\u001b[43mringo\u001b[49m\u001b[43m,\u001b[49m\u001b[43m \u001b[49m\u001b[43mband\u001b[49m\u001b[38;5;241;43m=\u001b[39;49m\u001b[43mbeatles\u001b[49m\u001b[43m,\u001b[49m\u001b[43m \u001b[49m\u001b[43mdate_joined\u001b[49m\u001b[38;5;241;43m=\u001b[39;49m\u001b[43mdate\u001b[49m\u001b[43m(\u001b[49m\u001b[38;5;241;43m1962\u001b[39;49m\u001b[43m,\u001b[49m\u001b[43m \u001b[49m\u001b[38;5;241;43m8\u001b[39;49m\u001b[43m,\u001b[49m\u001b[43m \u001b[49m\u001b[38;5;241;43m16\u001b[39;49m\u001b[43m)\u001b[49m\u001b[43m)\u001b[49m\n\u001b[0;32m      3\u001b[0m m1\u001b[38;5;241m.\u001b[39msave()\n",
      "File \u001b[1;32m~\\PycharmProjects\\repobe\\venv\\Lib\\site-packages\\django\\db\\models\\base.py:567\u001b[0m, in \u001b[0;36mModel.__init__\u001b[1;34m(self, *args, **kwargs)\u001b[0m\n\u001b[0;32m    565\u001b[0m     \u001b[38;5;28;01mif\u001b[39;00m unexpected:\n\u001b[0;32m    566\u001b[0m         unexpected_names \u001b[38;5;241m=\u001b[39m \u001b[38;5;124m\"\u001b[39m\u001b[38;5;124m, \u001b[39m\u001b[38;5;124m\"\u001b[39m\u001b[38;5;241m.\u001b[39mjoin(\u001b[38;5;28mrepr\u001b[39m(n) \u001b[38;5;28;01mfor\u001b[39;00m n \u001b[38;5;129;01min\u001b[39;00m unexpected)\n\u001b[1;32m--> 567\u001b[0m         \u001b[38;5;28;01mraise\u001b[39;00m \u001b[38;5;167;01mTypeError\u001b[39;00m(\n\u001b[0;32m    568\u001b[0m             \u001b[38;5;124mf\u001b[39m\u001b[38;5;124m\"\u001b[39m\u001b[38;5;132;01m{\u001b[39;00m\u001b[38;5;28mcls\u001b[39m\u001b[38;5;241m.\u001b[39m\u001b[38;5;18m__name__\u001b[39m\u001b[38;5;132;01m}\u001b[39;00m\u001b[38;5;124m() got unexpected keyword arguments: \u001b[39m\u001b[38;5;124m\"\u001b[39m\n\u001b[0;32m    569\u001b[0m             \u001b[38;5;124mf\u001b[39m\u001b[38;5;124m\"\u001b[39m\u001b[38;5;132;01m{\u001b[39;00munexpected_names\u001b[38;5;132;01m}\u001b[39;00m\u001b[38;5;124m\"\u001b[39m\n\u001b[0;32m    570\u001b[0m         )\n\u001b[0;32m    571\u001b[0m \u001b[38;5;28msuper\u001b[39m()\u001b[38;5;241m.\u001b[39m\u001b[38;5;21m__init__\u001b[39m()\n\u001b[0;32m    572\u001b[0m post_init\u001b[38;5;241m.\u001b[39msend(sender\u001b[38;5;241m=\u001b[39m\u001b[38;5;28mcls\u001b[39m, instance\u001b[38;5;241m=\u001b[39m\u001b[38;5;28mself\u001b[39m)\n",
      "\u001b[1;31mTypeError\u001b[0m: Membership() got unexpected keyword arguments: 'band'"
     ]
    }
   ],
   "source": [
    "# Version I (bezpośrednie użycie modelu pośredniego)\n",
    "m1 = Membership(person=ringo, band=beatles, date_joined=date(1962, 8, 16))\n",
    "m1.save()"
   ]
  },
  {
   "cell_type": "code",
   "execution_count": 11,
   "id": "ad663218",
   "metadata": {},
   "outputs": [],
   "source": [
    "# Version II (użycie menadżera powiązanego modelu Band)\n",
    "beatles.members.add(john, through_defaults={'date_joined': date(1960, 8, 1)})\n",
    "\n",
    "# zwróć uwagę, że dane dla kolumn rozszerzających podajemy w postaci słownika przy użyciu parametru through_defaults, \n",
    "# w słowniku muszą znaleźć się wszystkie rozszerzające model pośredni dane."
   ]
  },
  {
   "cell_type": "code",
   "execution_count": 12,
   "id": "03e3bfeb",
   "metadata": {},
   "outputs": [],
   "source": [
    "# Version III (użycie menadżera powiązanego modelu Person)\n",
    "paul.band_set.add(beatles, through_defaults={'date_joined': date(1960, 8, 1)})"
   ]
  },
  {
   "cell_type": "code",
   "execution_count": 13,
   "id": "5fe470ae",
   "metadata": {},
   "outputs": [],
   "source": [
    "# Version IV (za pomocą metody create - jednoczesne utworzenie wpisu i dodanie powiązania)\n",
    "george = beatles.members.create(name=\"George Harrison\", through_defaults={'date_joined': date(1960, 8, 1)})\n",
    "\n",
    "# tutaj w parametrach trzeba podać wszystkie dane potrzebne do utworzenia wpisu w tabeli Person"
   ]
  },
  {
   "cell_type": "code",
   "execution_count": 14,
   "id": "9dc84daa",
   "metadata": {},
   "outputs": [],
   "source": [
    "# Version V (za pomocą metody set - analogicznie jak w przypadk 'czystej' relacji m2m)\n",
    "beatles.members.set([john, paul, ringo], through_defaults={'date_joined': date(1960, 8, 1)})\n",
    "\n",
    "# metody set możemy użyć jeżeli wszystkie podane w liście wpisy mają te same wartości w kolumnach rozszerzających \n",
    "# model pośredni (czylie te same wartości w słowniku przypisywanym do parametru through_defaults)."
   ]
  },
  {
   "cell_type": "markdown",
   "id": "852658f0",
   "metadata": {},
   "source": [
    "**R z CRUD**"
   ]
  },
  {
   "cell_type": "markdown",
   "id": "05fa9748",
   "metadata": {},
   "source": [
    "Znajdź wszystkie zespoły, które w składzie posiadają osoby z wartością w kolumnie name zaczynającą się na 'Paul'"
   ]
  },
  {
   "cell_type": "code",
   "execution_count": 15,
   "id": "2aceec95",
   "metadata": {},
   "outputs": [
    {
     "data": {
      "text/plain": [
       "<QuerySet [<Band: Band object (1)>]>"
      ]
     },
     "execution_count": 15,
     "metadata": {},
     "output_type": "execute_result"
    }
   ],
   "source": [
    "Band.objects.filter(members__name__startswith='Paul')"
   ]
  },
  {
   "cell_type": "markdown",
   "id": "c997a1d2",
   "metadata": {},
   "source": [
    "Znajdź wszystkie osoby, które przyłączyły się do zespołu 'The Beatles' po 1 Jan 1961"
   ]
  },
  {
   "cell_type": "code",
   "execution_count": 16,
   "id": "e731f9e0",
   "metadata": {},
   "outputs": [
    {
     "data": {
      "text/plain": [
       "<QuerySet []>"
      ]
     },
     "execution_count": 16,
     "metadata": {},
     "output_type": "execute_result"
    }
   ],
   "source": [
    "Person.objects.filter(band__name='The Beatles', membership__date_joined__gt=date(1961, 1, 1))"
   ]
  },
  {
   "cell_type": "markdown",
   "id": "3179a5a5",
   "metadata": {},
   "source": [
    "A jak zapytać się o informacje uzupełniającą (w naszym przypadku o datę przyłączenia się do zespołu)? W którym roku do zespołu 'The Beatles' przyłączył się Ringo Starr?"
   ]
  },
  {
   "cell_type": "code",
   "execution_count": 18,
   "id": "6fcc30f3",
   "metadata": {},
   "outputs": [
    {
     "ename": "FieldError",
     "evalue": "Cannot resolve keyword 'band' into field. Choices are: date_joined, group, group_id, id, person, person_id",
     "output_type": "error",
     "traceback": [
      "\u001b[1;31m---------------------------------------------------------------------------\u001b[0m",
      "\u001b[1;31mFieldError\u001b[0m                                Traceback (most recent call last)",
      "Cell \u001b[1;32mIn[18], line 2\u001b[0m\n\u001b[0;32m      1\u001b[0m \u001b[38;5;66;03m# Version I (przez bezpośrednie odpytanie modelu pośredniego)\u001b[39;00m\n\u001b[1;32m----> 2\u001b[0m ringos_membership \u001b[38;5;241m=\u001b[39m \u001b[43mMembership\u001b[49m\u001b[38;5;241;43m.\u001b[39;49m\u001b[43mobjects\u001b[49m\u001b[38;5;241;43m.\u001b[39;49m\u001b[43mget\u001b[49m\u001b[43m(\u001b[49m\u001b[43mband\u001b[49m\u001b[38;5;241;43m=\u001b[39;49m\u001b[43mbeatles\u001b[49m\u001b[43m,\u001b[49m\u001b[43m \u001b[49m\u001b[43mperson\u001b[49m\u001b[38;5;241;43m=\u001b[39;49m\u001b[43mringo\u001b[49m\u001b[43m)\u001b[49m\n\u001b[0;32m      3\u001b[0m ringos_membership\u001b[38;5;241m.\u001b[39mdate_joined\n",
      "File \u001b[1;32m~\\PycharmProjects\\repobe\\venv\\Lib\\site-packages\\django\\db\\models\\manager.py:87\u001b[0m, in \u001b[0;36mBaseManager._get_queryset_methods.<locals>.create_method.<locals>.manager_method\u001b[1;34m(self, *args, **kwargs)\u001b[0m\n\u001b[0;32m     85\u001b[0m \u001b[38;5;129m@wraps\u001b[39m(method)\n\u001b[0;32m     86\u001b[0m \u001b[38;5;28;01mdef\u001b[39;00m \u001b[38;5;21mmanager_method\u001b[39m(\u001b[38;5;28mself\u001b[39m, \u001b[38;5;241m*\u001b[39margs, \u001b[38;5;241m*\u001b[39m\u001b[38;5;241m*\u001b[39mkwargs):\n\u001b[1;32m---> 87\u001b[0m     \u001b[38;5;28;01mreturn\u001b[39;00m \u001b[38;5;28;43mgetattr\u001b[39;49m\u001b[43m(\u001b[49m\u001b[38;5;28;43mself\u001b[39;49m\u001b[38;5;241;43m.\u001b[39;49m\u001b[43mget_queryset\u001b[49m\u001b[43m(\u001b[49m\u001b[43m)\u001b[49m\u001b[43m,\u001b[49m\u001b[43m \u001b[49m\u001b[43mname\u001b[49m\u001b[43m)\u001b[49m\u001b[43m(\u001b[49m\u001b[38;5;241;43m*\u001b[39;49m\u001b[43margs\u001b[49m\u001b[43m,\u001b[49m\u001b[43m \u001b[49m\u001b[38;5;241;43m*\u001b[39;49m\u001b[38;5;241;43m*\u001b[39;49m\u001b[43mkwargs\u001b[49m\u001b[43m)\u001b[49m\n",
      "File \u001b[1;32m~\\PycharmProjects\\repobe\\venv\\Lib\\site-packages\\django\\db\\models\\query.py:635\u001b[0m, in \u001b[0;36mQuerySet.get\u001b[1;34m(self, *args, **kwargs)\u001b[0m\n\u001b[0;32m    630\u001b[0m \u001b[38;5;28;01mif\u001b[39;00m \u001b[38;5;28mself\u001b[39m\u001b[38;5;241m.\u001b[39mquery\u001b[38;5;241m.\u001b[39mcombinator \u001b[38;5;129;01mand\u001b[39;00m (args \u001b[38;5;129;01mor\u001b[39;00m kwargs):\n\u001b[0;32m    631\u001b[0m     \u001b[38;5;28;01mraise\u001b[39;00m NotSupportedError(\n\u001b[0;32m    632\u001b[0m         \u001b[38;5;124m\"\u001b[39m\u001b[38;5;124mCalling QuerySet.get(...) with filters after \u001b[39m\u001b[38;5;132;01m%s\u001b[39;00m\u001b[38;5;124m() is not \u001b[39m\u001b[38;5;124m\"\u001b[39m\n\u001b[0;32m    633\u001b[0m         \u001b[38;5;124m\"\u001b[39m\u001b[38;5;124msupported.\u001b[39m\u001b[38;5;124m\"\u001b[39m \u001b[38;5;241m%\u001b[39m \u001b[38;5;28mself\u001b[39m\u001b[38;5;241m.\u001b[39mquery\u001b[38;5;241m.\u001b[39mcombinator\n\u001b[0;32m    634\u001b[0m     )\n\u001b[1;32m--> 635\u001b[0m clone \u001b[38;5;241m=\u001b[39m \u001b[38;5;28mself\u001b[39m\u001b[38;5;241m.\u001b[39m_chain() \u001b[38;5;28;01mif\u001b[39;00m \u001b[38;5;28mself\u001b[39m\u001b[38;5;241m.\u001b[39mquery\u001b[38;5;241m.\u001b[39mcombinator \u001b[38;5;28;01melse\u001b[39;00m \u001b[38;5;28;43mself\u001b[39;49m\u001b[38;5;241;43m.\u001b[39;49m\u001b[43mfilter\u001b[49m\u001b[43m(\u001b[49m\u001b[38;5;241;43m*\u001b[39;49m\u001b[43margs\u001b[49m\u001b[43m,\u001b[49m\u001b[43m \u001b[49m\u001b[38;5;241;43m*\u001b[39;49m\u001b[38;5;241;43m*\u001b[39;49m\u001b[43mkwargs\u001b[49m\u001b[43m)\u001b[49m\n\u001b[0;32m    636\u001b[0m \u001b[38;5;28;01mif\u001b[39;00m \u001b[38;5;28mself\u001b[39m\u001b[38;5;241m.\u001b[39mquery\u001b[38;5;241m.\u001b[39mcan_filter() \u001b[38;5;129;01mand\u001b[39;00m \u001b[38;5;129;01mnot\u001b[39;00m \u001b[38;5;28mself\u001b[39m\u001b[38;5;241m.\u001b[39mquery\u001b[38;5;241m.\u001b[39mdistinct_fields:\n\u001b[0;32m    637\u001b[0m     clone \u001b[38;5;241m=\u001b[39m clone\u001b[38;5;241m.\u001b[39morder_by()\n",
      "File \u001b[1;32m~\\PycharmProjects\\repobe\\venv\\Lib\\site-packages\\django\\db\\models\\query.py:1476\u001b[0m, in \u001b[0;36mQuerySet.filter\u001b[1;34m(self, *args, **kwargs)\u001b[0m\n\u001b[0;32m   1471\u001b[0m \u001b[38;5;250m\u001b[39m\u001b[38;5;124;03m\"\"\"\u001b[39;00m\n\u001b[0;32m   1472\u001b[0m \u001b[38;5;124;03mReturn a new QuerySet instance with the args ANDed to the existing\u001b[39;00m\n\u001b[0;32m   1473\u001b[0m \u001b[38;5;124;03mset.\u001b[39;00m\n\u001b[0;32m   1474\u001b[0m \u001b[38;5;124;03m\"\"\"\u001b[39;00m\n\u001b[0;32m   1475\u001b[0m \u001b[38;5;28mself\u001b[39m\u001b[38;5;241m.\u001b[39m_not_support_combined_queries(\u001b[38;5;124m\"\u001b[39m\u001b[38;5;124mfilter\u001b[39m\u001b[38;5;124m\"\u001b[39m)\n\u001b[1;32m-> 1476\u001b[0m \u001b[38;5;28;01mreturn\u001b[39;00m \u001b[38;5;28;43mself\u001b[39;49m\u001b[38;5;241;43m.\u001b[39;49m\u001b[43m_filter_or_exclude\u001b[49m\u001b[43m(\u001b[49m\u001b[38;5;28;43;01mFalse\u001b[39;49;00m\u001b[43m,\u001b[49m\u001b[43m \u001b[49m\u001b[43margs\u001b[49m\u001b[43m,\u001b[49m\u001b[43m \u001b[49m\u001b[43mkwargs\u001b[49m\u001b[43m)\u001b[49m\n",
      "File \u001b[1;32m~\\PycharmProjects\\repobe\\venv\\Lib\\site-packages\\django\\db\\models\\query.py:1494\u001b[0m, in \u001b[0;36mQuerySet._filter_or_exclude\u001b[1;34m(self, negate, args, kwargs)\u001b[0m\n\u001b[0;32m   1492\u001b[0m     clone\u001b[38;5;241m.\u001b[39m_deferred_filter \u001b[38;5;241m=\u001b[39m negate, args, kwargs\n\u001b[0;32m   1493\u001b[0m \u001b[38;5;28;01melse\u001b[39;00m:\n\u001b[1;32m-> 1494\u001b[0m     \u001b[43mclone\u001b[49m\u001b[38;5;241;43m.\u001b[39;49m\u001b[43m_filter_or_exclude_inplace\u001b[49m\u001b[43m(\u001b[49m\u001b[43mnegate\u001b[49m\u001b[43m,\u001b[49m\u001b[43m \u001b[49m\u001b[43margs\u001b[49m\u001b[43m,\u001b[49m\u001b[43m \u001b[49m\u001b[43mkwargs\u001b[49m\u001b[43m)\u001b[49m\n\u001b[0;32m   1495\u001b[0m \u001b[38;5;28;01mreturn\u001b[39;00m clone\n",
      "File \u001b[1;32m~\\PycharmProjects\\repobe\\venv\\Lib\\site-packages\\django\\db\\models\\query.py:1501\u001b[0m, in \u001b[0;36mQuerySet._filter_or_exclude_inplace\u001b[1;34m(self, negate, args, kwargs)\u001b[0m\n\u001b[0;32m   1499\u001b[0m     \u001b[38;5;28mself\u001b[39m\u001b[38;5;241m.\u001b[39m_query\u001b[38;5;241m.\u001b[39madd_q(\u001b[38;5;241m~\u001b[39mQ(\u001b[38;5;241m*\u001b[39margs, \u001b[38;5;241m*\u001b[39m\u001b[38;5;241m*\u001b[39mkwargs))\n\u001b[0;32m   1500\u001b[0m \u001b[38;5;28;01melse\u001b[39;00m:\n\u001b[1;32m-> 1501\u001b[0m     \u001b[38;5;28;43mself\u001b[39;49m\u001b[38;5;241;43m.\u001b[39;49m\u001b[43m_query\u001b[49m\u001b[38;5;241;43m.\u001b[39;49m\u001b[43madd_q\u001b[49m\u001b[43m(\u001b[49m\u001b[43mQ\u001b[49m\u001b[43m(\u001b[49m\u001b[38;5;241;43m*\u001b[39;49m\u001b[43margs\u001b[49m\u001b[43m,\u001b[49m\u001b[43m \u001b[49m\u001b[38;5;241;43m*\u001b[39;49m\u001b[38;5;241;43m*\u001b[39;49m\u001b[43mkwargs\u001b[49m\u001b[43m)\u001b[49m\u001b[43m)\u001b[49m\n",
      "File \u001b[1;32m~\\PycharmProjects\\repobe\\venv\\Lib\\site-packages\\django\\db\\models\\sql\\query.py:1609\u001b[0m, in \u001b[0;36mQuery.add_q\u001b[1;34m(self, q_object)\u001b[0m\n\u001b[0;32m   1600\u001b[0m \u001b[38;5;66;03m# For join promotion this case is doing an AND for the added q_object\u001b[39;00m\n\u001b[0;32m   1601\u001b[0m \u001b[38;5;66;03m# and existing conditions. So, any existing inner join forces the join\u001b[39;00m\n\u001b[0;32m   1602\u001b[0m \u001b[38;5;66;03m# type to remain inner. Existing outer joins can however be demoted.\u001b[39;00m\n\u001b[0;32m   1603\u001b[0m \u001b[38;5;66;03m# (Consider case where rel_a is LOUTER and rel_a__col=1 is added - if\u001b[39;00m\n\u001b[0;32m   1604\u001b[0m \u001b[38;5;66;03m# rel_a doesn't produce any rows, then the whole condition must fail.\u001b[39;00m\n\u001b[0;32m   1605\u001b[0m \u001b[38;5;66;03m# So, demotion is OK.\u001b[39;00m\n\u001b[0;32m   1606\u001b[0m existing_inner \u001b[38;5;241m=\u001b[39m {\n\u001b[0;32m   1607\u001b[0m     a \u001b[38;5;28;01mfor\u001b[39;00m a \u001b[38;5;129;01min\u001b[39;00m \u001b[38;5;28mself\u001b[39m\u001b[38;5;241m.\u001b[39malias_map \u001b[38;5;28;01mif\u001b[39;00m \u001b[38;5;28mself\u001b[39m\u001b[38;5;241m.\u001b[39malias_map[a]\u001b[38;5;241m.\u001b[39mjoin_type \u001b[38;5;241m==\u001b[39m INNER\n\u001b[0;32m   1608\u001b[0m }\n\u001b[1;32m-> 1609\u001b[0m clause, _ \u001b[38;5;241m=\u001b[39m \u001b[38;5;28;43mself\u001b[39;49m\u001b[38;5;241;43m.\u001b[39;49m\u001b[43m_add_q\u001b[49m\u001b[43m(\u001b[49m\u001b[43mq_object\u001b[49m\u001b[43m,\u001b[49m\u001b[43m \u001b[49m\u001b[38;5;28;43mself\u001b[39;49m\u001b[38;5;241;43m.\u001b[39;49m\u001b[43mused_aliases\u001b[49m\u001b[43m)\u001b[49m\n\u001b[0;32m   1610\u001b[0m \u001b[38;5;28;01mif\u001b[39;00m clause:\n\u001b[0;32m   1611\u001b[0m     \u001b[38;5;28mself\u001b[39m\u001b[38;5;241m.\u001b[39mwhere\u001b[38;5;241m.\u001b[39madd(clause, AND)\n",
      "File \u001b[1;32m~\\PycharmProjects\\repobe\\venv\\Lib\\site-packages\\django\\db\\models\\sql\\query.py:1641\u001b[0m, in \u001b[0;36mQuery._add_q\u001b[1;34m(self, q_object, used_aliases, branch_negated, current_negated, allow_joins, split_subq, check_filterable, summarize, update_join_types)\u001b[0m\n\u001b[0;32m   1637\u001b[0m joinpromoter \u001b[38;5;241m=\u001b[39m JoinPromoter(\n\u001b[0;32m   1638\u001b[0m     q_object\u001b[38;5;241m.\u001b[39mconnector, \u001b[38;5;28mlen\u001b[39m(q_object\u001b[38;5;241m.\u001b[39mchildren), current_negated\n\u001b[0;32m   1639\u001b[0m )\n\u001b[0;32m   1640\u001b[0m \u001b[38;5;28;01mfor\u001b[39;00m child \u001b[38;5;129;01min\u001b[39;00m q_object\u001b[38;5;241m.\u001b[39mchildren:\n\u001b[1;32m-> 1641\u001b[0m     child_clause, needed_inner \u001b[38;5;241m=\u001b[39m \u001b[38;5;28;43mself\u001b[39;49m\u001b[38;5;241;43m.\u001b[39;49m\u001b[43mbuild_filter\u001b[49m\u001b[43m(\u001b[49m\n\u001b[0;32m   1642\u001b[0m \u001b[43m        \u001b[49m\u001b[43mchild\u001b[49m\u001b[43m,\u001b[49m\n\u001b[0;32m   1643\u001b[0m \u001b[43m        \u001b[49m\u001b[43mcan_reuse\u001b[49m\u001b[38;5;241;43m=\u001b[39;49m\u001b[43mused_aliases\u001b[49m\u001b[43m,\u001b[49m\n\u001b[0;32m   1644\u001b[0m \u001b[43m        \u001b[49m\u001b[43mbranch_negated\u001b[49m\u001b[38;5;241;43m=\u001b[39;49m\u001b[43mbranch_negated\u001b[49m\u001b[43m,\u001b[49m\n\u001b[0;32m   1645\u001b[0m \u001b[43m        \u001b[49m\u001b[43mcurrent_negated\u001b[49m\u001b[38;5;241;43m=\u001b[39;49m\u001b[43mcurrent_negated\u001b[49m\u001b[43m,\u001b[49m\n\u001b[0;32m   1646\u001b[0m \u001b[43m        \u001b[49m\u001b[43mallow_joins\u001b[49m\u001b[38;5;241;43m=\u001b[39;49m\u001b[43mallow_joins\u001b[49m\u001b[43m,\u001b[49m\n\u001b[0;32m   1647\u001b[0m \u001b[43m        \u001b[49m\u001b[43msplit_subq\u001b[49m\u001b[38;5;241;43m=\u001b[39;49m\u001b[43msplit_subq\u001b[49m\u001b[43m,\u001b[49m\n\u001b[0;32m   1648\u001b[0m \u001b[43m        \u001b[49m\u001b[43mcheck_filterable\u001b[49m\u001b[38;5;241;43m=\u001b[39;49m\u001b[43mcheck_filterable\u001b[49m\u001b[43m,\u001b[49m\n\u001b[0;32m   1649\u001b[0m \u001b[43m        \u001b[49m\u001b[43msummarize\u001b[49m\u001b[38;5;241;43m=\u001b[39;49m\u001b[43msummarize\u001b[49m\u001b[43m,\u001b[49m\n\u001b[0;32m   1650\u001b[0m \u001b[43m        \u001b[49m\u001b[43mupdate_join_types\u001b[49m\u001b[38;5;241;43m=\u001b[39;49m\u001b[43mupdate_join_types\u001b[49m\u001b[43m,\u001b[49m\n\u001b[0;32m   1651\u001b[0m \u001b[43m    \u001b[49m\u001b[43m)\u001b[49m\n\u001b[0;32m   1652\u001b[0m     joinpromoter\u001b[38;5;241m.\u001b[39madd_votes(needed_inner)\n\u001b[0;32m   1653\u001b[0m     \u001b[38;5;28;01mif\u001b[39;00m child_clause:\n",
      "File \u001b[1;32m~\\PycharmProjects\\repobe\\venv\\Lib\\site-packages\\django\\db\\models\\sql\\query.py:1491\u001b[0m, in \u001b[0;36mQuery.build_filter\u001b[1;34m(self, filter_expr, branch_negated, current_negated, can_reuse, allow_joins, split_subq, check_filterable, summarize, update_join_types)\u001b[0m\n\u001b[0;32m   1489\u001b[0m \u001b[38;5;28;01mif\u001b[39;00m \u001b[38;5;129;01mnot\u001b[39;00m arg:\n\u001b[0;32m   1490\u001b[0m     \u001b[38;5;28;01mraise\u001b[39;00m FieldError(\u001b[38;5;124m\"\u001b[39m\u001b[38;5;124mCannot parse keyword query \u001b[39m\u001b[38;5;132;01m%r\u001b[39;00m\u001b[38;5;124m\"\u001b[39m \u001b[38;5;241m%\u001b[39m arg)\n\u001b[1;32m-> 1491\u001b[0m lookups, parts, reffed_expression \u001b[38;5;241m=\u001b[39m \u001b[38;5;28;43mself\u001b[39;49m\u001b[38;5;241;43m.\u001b[39;49m\u001b[43msolve_lookup_type\u001b[49m\u001b[43m(\u001b[49m\u001b[43marg\u001b[49m\u001b[43m,\u001b[49m\u001b[43m \u001b[49m\u001b[43msummarize\u001b[49m\u001b[43m)\u001b[49m\n\u001b[0;32m   1493\u001b[0m \u001b[38;5;28;01mif\u001b[39;00m check_filterable:\n\u001b[0;32m   1494\u001b[0m     \u001b[38;5;28mself\u001b[39m\u001b[38;5;241m.\u001b[39mcheck_filterable(reffed_expression)\n",
      "File \u001b[1;32m~\\PycharmProjects\\repobe\\venv\\Lib\\site-packages\\django\\db\\models\\sql\\query.py:1303\u001b[0m, in \u001b[0;36mQuery.solve_lookup_type\u001b[1;34m(self, lookup, summarize)\u001b[0m\n\u001b[0;32m   1301\u001b[0m             expression \u001b[38;5;241m=\u001b[39m Ref(annotation, expression)\n\u001b[0;32m   1302\u001b[0m         \u001b[38;5;28;01mreturn\u001b[39;00m expression_lookups, (), expression\n\u001b[1;32m-> 1303\u001b[0m _, field, _, lookup_parts \u001b[38;5;241m=\u001b[39m \u001b[38;5;28;43mself\u001b[39;49m\u001b[38;5;241;43m.\u001b[39;49m\u001b[43mnames_to_path\u001b[49m\u001b[43m(\u001b[49m\u001b[43mlookup_splitted\u001b[49m\u001b[43m,\u001b[49m\u001b[43m \u001b[49m\u001b[38;5;28;43mself\u001b[39;49m\u001b[38;5;241;43m.\u001b[39;49m\u001b[43mget_meta\u001b[49m\u001b[43m(\u001b[49m\u001b[43m)\u001b[49m\u001b[43m)\u001b[49m\n\u001b[0;32m   1304\u001b[0m field_parts \u001b[38;5;241m=\u001b[39m lookup_splitted[\u001b[38;5;241m0\u001b[39m : \u001b[38;5;28mlen\u001b[39m(lookup_splitted) \u001b[38;5;241m-\u001b[39m \u001b[38;5;28mlen\u001b[39m(lookup_parts)]\n\u001b[0;32m   1305\u001b[0m \u001b[38;5;28;01mif\u001b[39;00m \u001b[38;5;28mlen\u001b[39m(lookup_parts) \u001b[38;5;241m>\u001b[39m \u001b[38;5;241m1\u001b[39m \u001b[38;5;129;01mand\u001b[39;00m \u001b[38;5;129;01mnot\u001b[39;00m field_parts:\n",
      "File \u001b[1;32m~\\PycharmProjects\\repobe\\venv\\Lib\\site-packages\\django\\db\\models\\sql\\query.py:1768\u001b[0m, in \u001b[0;36mQuery.names_to_path\u001b[1;34m(self, names, opts, allow_many, fail_on_missing)\u001b[0m\n\u001b[0;32m   1760\u001b[0m     \u001b[38;5;28;01mif\u001b[39;00m pos \u001b[38;5;241m==\u001b[39m \u001b[38;5;241m-\u001b[39m\u001b[38;5;241m1\u001b[39m \u001b[38;5;129;01mor\u001b[39;00m fail_on_missing:\n\u001b[0;32m   1761\u001b[0m         available \u001b[38;5;241m=\u001b[39m \u001b[38;5;28msorted\u001b[39m(\n\u001b[0;32m   1762\u001b[0m             [\n\u001b[0;32m   1763\u001b[0m                 \u001b[38;5;241m*\u001b[39mget_field_names_from_opts(opts),\n\u001b[1;32m   (...)\u001b[0m\n\u001b[0;32m   1766\u001b[0m             ]\n\u001b[0;32m   1767\u001b[0m         )\n\u001b[1;32m-> 1768\u001b[0m         \u001b[38;5;28;01mraise\u001b[39;00m FieldError(\n\u001b[0;32m   1769\u001b[0m             \u001b[38;5;124m\"\u001b[39m\u001b[38;5;124mCannot resolve keyword \u001b[39m\u001b[38;5;124m'\u001b[39m\u001b[38;5;132;01m%s\u001b[39;00m\u001b[38;5;124m'\u001b[39m\u001b[38;5;124m into field. \u001b[39m\u001b[38;5;124m\"\u001b[39m\n\u001b[0;32m   1770\u001b[0m             \u001b[38;5;124m\"\u001b[39m\u001b[38;5;124mChoices are: \u001b[39m\u001b[38;5;132;01m%s\u001b[39;00m\u001b[38;5;124m\"\u001b[39m \u001b[38;5;241m%\u001b[39m (name, \u001b[38;5;124m\"\u001b[39m\u001b[38;5;124m, \u001b[39m\u001b[38;5;124m\"\u001b[39m\u001b[38;5;241m.\u001b[39mjoin(available))\n\u001b[0;32m   1771\u001b[0m         )\n\u001b[0;32m   1772\u001b[0m     \u001b[38;5;28;01mbreak\u001b[39;00m\n\u001b[0;32m   1773\u001b[0m \u001b[38;5;66;03m# Check if we need any joins for concrete inheritance cases (the\u001b[39;00m\n\u001b[0;32m   1774\u001b[0m \u001b[38;5;66;03m# field lives in parent, but we are currently in one of its\u001b[39;00m\n\u001b[0;32m   1775\u001b[0m \u001b[38;5;66;03m# children)\u001b[39;00m\n",
      "\u001b[1;31mFieldError\u001b[0m: Cannot resolve keyword 'band' into field. Choices are: date_joined, group, group_id, id, person, person_id"
     ]
    }
   ],
   "source": [
    "# Version I (przez bezpośrednie odpytanie modelu pośredniego)\n",
    "ringos_membership = Membership.objects.get(band=beatles, person=ringo)\n",
    "ringos_membership.date_joined"
   ]
  },
  {
   "cell_type": "code",
   "execution_count": null,
   "id": "a73a1a8a",
   "metadata": {},
   "outputs": [],
   "source": [
    "# Version II (za pomocą menadżera powiązanego z modelem pośrednim z poziomu modelu Person)\n",
    "ringos_membership = ringo.membership_set.get(band=beatles)\n",
    "ringos_membership.date_joined"
   ]
  },
  {
   "cell_type": "code",
   "execution_count": null,
   "id": "279dccb3",
   "metadata": {},
   "outputs": [],
   "source": [
    "# Version III (za pomocą menadżera powiązanego z modelem pośrednim z poziomu modelu Band)\n",
    "ringos_membership = beatles.membership_set.get(person=ringo)\n",
    "ringos_membership.date_joined"
   ]
  },
  {
   "cell_type": "markdown",
   "id": "c72a85b6",
   "metadata": {},
   "source": [
    "**U z CRUD**"
   ]
  },
  {
   "cell_type": "markdown",
   "id": "c4d7a6fd",
   "metadata": {},
   "source": [
    "**D z CRUD**"
   ]
  },
  {
   "cell_type": "markdown",
   "id": "7a49a201",
   "metadata": {},
   "source": [
    "W jaki sposób możemy usuwać powiązania?"
   ]
  },
  {
   "cell_type": "code",
   "execution_count": null,
   "id": "bf50c016",
   "metadata": {},
   "outputs": [],
   "source": [
    "# Version I (bezpośrednio z modelu pośredniego)\n",
    "ringos_membership = Membership.objects.get(band=beatles, person=ringo)\n",
    "ringos_membership.delete()"
   ]
  },
  {
   "cell_type": "code",
   "execution_count": null,
   "id": "35f39384",
   "metadata": {},
   "outputs": [],
   "source": [
    "# Version II (za pomocą metody remove menadżera powiązanego modelu Band)\n",
    "beatles.members.remove(john)\n",
    "\n",
    "# metoda remove zwraca None"
   ]
  },
  {
   "cell_type": "code",
   "execution_count": null,
   "id": "6827fc0f",
   "metadata": {},
   "outputs": [],
   "source": [
    "# Version III (za pomocą metody remove menadżera powiązanego modelu Person)\n",
    "paul.band_set.remove(beatles)"
   ]
  },
  {
   "cell_type": "markdown",
   "id": "412475d5",
   "metadata": {},
   "source": [
    "# Zagadnienia dodatkowe"
   ]
  },
  {
   "cell_type": "markdown",
   "id": "877b4e4a",
   "metadata": {},
   "source": [
    "**Optymlizcja zapytań**\n"
   ]
  },
  {
   "cell_type": "markdown",
   "id": "9639b174",
   "metadata": {},
   "source": [
    "W jaki sposób, za pomocą dotychczas poznanych narzędzi moglibyś zrealizować joina?"
   ]
  },
  {
   "cell_type": "markdown",
   "id": "d9897874",
   "metadata": {},
   "source": [
    "Weźmy tabelki Framework i language"
   ]
  },
  {
   "cell_type": "code",
   "execution_count": null,
   "id": "f4ddc7eb",
   "metadata": {},
   "outputs": [],
   "source": [
    "from orm_app.models import Framework, Language"
   ]
  },
  {
   "cell_type": "markdown",
   "id": "feda0147",
   "metadata": {},
   "source": [
    "Z tabelki Framework wyciągnijmy Django"
   ]
  },
  {
   "cell_type": "code",
   "execution_count": null,
   "id": "fd23fb63",
   "metadata": {},
   "outputs": [],
   "source": [
    "django_qs = Framework.objects.filter(name='django')\n",
    "\n",
    "# na bazie wykona się taka sqlka\n",
    "print(django_qs.query)"
   ]
  },
  {
   "cell_type": "code",
   "execution_count": null,
   "id": "218f66c1",
   "metadata": {},
   "outputs": [],
   "source": [
    "django = django_qs[0]\n",
    "django"
   ]
  },
  {
   "cell_type": "code",
   "execution_count": null,
   "id": "3cfdcf0e",
   "metadata": {},
   "outputs": [],
   "source": [
    "# jeżeli teraz chcemy wyciągnąć powiązany z wpisem django wpis z tabelki Language\n",
    "python = django.language\n",
    "\n",
    "# to django orm musi wykonać kolejne zapytanie na bazę\n",
    "python"
   ]
  },
  {
   "cell_type": "markdown",
   "id": "e4774f30",
   "metadata": {},
   "source": [
    "Załóżmy teraz, że chcemy wyświetlić język wszystkich frameworków zapisanych w bazie. Wykorzystując dotychczas poznane narzędzia kod będzie wyglądał mniej więcej tak:"
   ]
  },
  {
   "cell_type": "code",
   "execution_count": null,
   "id": "9814212f",
   "metadata": {},
   "outputs": [],
   "source": [
    "frameworks = Framework.objects.all()\n",
    "\n",
    "for framework in frameworks:\n",
    "    print(framework.language)"
   ]
  },
  {
   "cell_type": "markdown",
   "id": "153aa587",
   "metadata": {},
   "source": [
    "Przy założeniu, że w bazie mamy zapisane 100 frameworków django będzie musiał uderzyć na bazę 101 razy (raz, żeby wyciągnąć wszystkie frameworki i później po razie na każdy framework, żeby wyciągnąć jego język). "
   ]
  },
  {
   "cell_type": "markdown",
   "id": "80036a77",
   "metadata": {},
   "source": [
    "Znając klauzulę JOIN wiemy, że z jej użyciem możnabyłoby wszystkie potrzebne informacje wyciągnąc za pomocą jednego zapytania na bazę. Ma to szczególne znaczenie, kiedy wyciągamy dużo wpisów (np. 100 albo 1000). 1000 dodatkowych zapytań do bazy może wygenerować już zauważalne wydłużenie czasu wykonywania kodu. Jak zmusić django orm do wykonania JOINa?"
   ]
  },
  {
   "cell_type": "markdown",
   "id": "3da4189b",
   "metadata": {},
   "source": [
    "Za pomocą django orm **instrukcje join** możemy zrealizować na dwa sposoby:\n",
    "- `select_related`\n",
    "- `prefetch_related`"
   ]
  },
  {
   "cell_type": "markdown",
   "id": "0872fce0",
   "metadata": {},
   "source": [
    "To, której metody będziemy chcieli użyć zależy od charaketru relacji wzdłuż, której złączamy tabelki."
   ]
  },
  {
   "cell_type": "markdown",
   "id": "f075c269",
   "metadata": {},
   "source": [
    "## select_related"
   ]
  },
  {
   "cell_type": "markdown",
   "id": "a6887e71",
   "metadata": {},
   "source": [
    "`select_related` wykonuje trdycyjnego joina, bez żadnych dodatkowych usprawnień. Używamy w przypadku relacji o2o oraz o2m. Proba użycia na relacji m2m zakończy się błędem z przyczyn, o których poniżej."
   ]
  },
  {
   "cell_type": "code",
   "execution_count": null,
   "id": "572e1103",
   "metadata": {},
   "outputs": [],
   "source": [
    "frameworks = Framework.objects.select_related()\n",
    "\n",
    "# tym razem na bazie wykona się taka sqlka\n",
    "print(frameworks.query)"
   ]
  },
  {
   "cell_type": "markdown",
   "id": "557fc0ad",
   "metadata": {},
   "source": [
    "Widzimy joina. Django orm wyciągnie z bazy informacje o wpisach powiązanych i powkłada te informacje do odpowiednich obiektów w taki sposób, że odwołując się do języka frameworka, orm nie będzie potrzebował, ponownie uderzyć na bazę."
   ]
  },
  {
   "cell_type": "code",
   "execution_count": null,
   "id": "eb46cced",
   "metadata": {},
   "outputs": [],
   "source": [
    "# tym razem ten kod wykona się bez uderzania na bazę\n",
    "for framework in frameworks:\n",
    "    print(framework.language)"
   ]
  },
  {
   "cell_type": "markdown",
   "id": "2ffe5736",
   "metadata": {},
   "source": [
    "Jeżeli chcemy zrobić joina tylko z wybranymi powiązaniami (a nie ze wszystkimi), dopisujemy nazwy wybranych kluczy obcych jako parametry pozycyjne metody select_related."
   ]
  },
  {
   "cell_type": "code",
   "execution_count": null,
   "id": "2c580bf3",
   "metadata": {},
   "outputs": [],
   "source": [
    "frameworks = Framework.objects.select_related('language')\n",
    "print(frameworks.query)  \n",
    "# w tym przykładzie nie widzimy różnicy pomiędzy tym zapytaniem, a poprzednim ponieważ tabelka framework ma tylko \n",
    "# jedno powiązanie (z tabelką Language)"
   ]
  },
  {
   "cell_type": "markdown",
   "id": "04989759",
   "metadata": {},
   "source": [
    "Jeżeli chcielibyśmy robić kolejnego joina z wykorzystaniem danych z tabeli zjoinowanej, możemy posłużyć się `field lookup`. Założmy hipotetycznie, że tabelka language ma jeszcze kolumnę type, która jest kluczem obcym do tabelki Type (niech tabelka Type reprezentuje typ języka programowania, np. statyczny, dynamiczny). Jeżeli chcielibyśmy zjoinować również tą kolejną tabelkę, możemy to zrobić w ten sposób:"
   ]
  },
  {
   "cell_type": "code",
   "execution_count": null,
   "id": "e12d9093",
   "metadata": {},
   "outputs": [],
   "source": [
    "# frameworks = Framework.objects.select_related('language__type')\n",
    "\n",
    "# W ten sposób możemy łańcuchować lookupy joinując dalsze tabelki"
   ]
  },
  {
   "cell_type": "markdown",
   "id": "d31fee3f",
   "metadata": {},
   "source": [
    "W wyniku wykonywania joinów czasami (zwłaszcza w przypadku relacji m2m) możemy wyciągać z bazy dużą ilość danych. Z myślą o takich przypadkach django orm udostępnia drugą metodę na zrealizowanie joina - `prefetch_related`."
   ]
  },
  {
   "cell_type": "markdown",
   "id": "04194224",
   "metadata": {},
   "source": [
    "### prefetch_related"
   ]
  },
  {
   "cell_type": "code",
   "execution_count": null,
   "id": "3a89613d",
   "metadata": {},
   "outputs": [],
   "source": [
    "frameworks = Framework.objects.prefetch_related()\n",
    "\n",
    "print(frameworks.query)"
   ]
  },
  {
   "cell_type": "markdown",
   "id": "bb526084",
   "metadata": {},
   "source": [
    "Tutaj nie widzimy, żeby django zrobił jakiegoś joina, ale pod spodem django wykonał dwa zapytania na bazę. Jedno to to, którego sql widzimy powyżej. Drugie zapytanie było o wpisy powiązane. A następnie połączył te informacje ze sobą już po stronie pythona. W efekcie zamiast 101 zapytań zrobiliśmy dwa. \n",
    "\n",
    "`prefech_related` używamy kiedy nie chcemy uderzać wiele razy na bazę, a jednocześnie wiemy że w wyniku pojdynczego zapytania dostaniemy ogromną liczbę danych, których przetworzenie może zająć więcej czasu niż przetworzenie tej samej ilości danych, ale w dwóch mniejszych zbiorach."
   ]
  },
  {
   "cell_type": "markdown",
   "id": "5a90620c",
   "metadata": {},
   "source": [
    "Powyższych reguł nie jesteśmy w stanie zaobserwować bez użycia dodatkowych narzędzi. Jednym z najlepszych sposobów na śledzenie jakości zapytań bazodanowych po stronie Django jest użycie Django Debug Toolbar (https://django-debug-toolbar.readthedocs.io/en/latest/installation.html), dodatku do django, który monitoruje wiele parametrów widoku, wśród których znajduje się liczba zapytań sql i czas ich wykonania."
   ]
  }
 ],
 "metadata": {
  "kernelspec": {
   "display_name": "Python 3 (ipykernel)",
   "language": "python",
   "name": "python3"
  },
  "language_info": {
   "codemirror_mode": {
    "name": "ipython",
    "version": 3
   },
   "file_extension": ".py",
   "mimetype": "text/x-python",
   "name": "python",
   "nbconvert_exporter": "python",
   "pygments_lexer": "ipython3",
   "version": "3.12.2"
  }
 },
 "nbformat": 4,
 "nbformat_minor": 5
}
