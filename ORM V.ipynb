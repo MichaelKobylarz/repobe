{
 "cells": [
  {
   "cell_type": "markdown",
   "id": "9a3ccb7a",
   "metadata": {},
   "source": [
    "# Optymalizacja zapytań django orm"
   ]
  },
  {
   "cell_type": "markdown",
   "id": "aed61773",
   "metadata": {},
   "source": [
    "Pracować będziemy na modelu postaci:\n",
    "\n",
    "<code>class Product(models.Model):\n",
    "    title = models.CharField(max_length=100)\n",
    "    manufacturer = models.CharField(max_length=100)\n",
    "    price = models.IntegerField()\n",
    "</code>\n",
    "<code>\n",
    "    a = models.CharField(max_length=100)\n",
    "    b = models.CharField(max_length=100)\n",
    "    c = models.CharField(max_length=100)\n",
    "</code>\n",
    "<code>    \n",
    "    product_secret_id = models.CharField(max_length=100)\n",
    "</code>\n",
    "\n",
    "Dopisz powyższy model do jednej ze swoich aplikacji."
   ]
  },
  {
   "cell_type": "markdown",
   "id": "67bad6ee",
   "metadata": {},
   "source": [
    "Najpierw linijki, które pozwolą nam swobodnie korzystać z Django w notatniku Jupyter."
   ]
  },
  {
   "cell_type": "code",
   "execution_count": 1,
   "id": "da4135ad",
   "metadata": {
    "ExecuteTime": {
     "end_time": "2024-08-20T16:10:23.096674300Z",
     "start_time": "2024-08-20T16:10:22.389003200Z"
    }
   },
   "outputs": [],
   "source": [
    "import os\n",
    "import django\n",
    "os.environ.setdefault('DJANGO_SETTINGS_MODULE', 'intro.settings')\n",
    "os.environ[\"DJANGO_ALLOW_ASYNC_UNSAFE\"] = \"true\"\n",
    "django.setup()"
   ]
  },
  {
   "cell_type": "markdown",
   "id": "77cf9c96",
   "metadata": {},
   "source": [
    "Zaimportujmy model"
   ]
  },
  {
   "cell_type": "code",
   "execution_count": 13,
   "id": "0bab577b",
   "metadata": {
    "ExecuteTime": {
     "end_time": "2024-08-20T16:24:54.118660500Z",
     "start_time": "2024-08-20T16:24:54.100826900Z"
    }
   },
   "outputs": [],
   "source": [
    "from orm_app.models import Product"
   ]
  },
  {
   "cell_type": "code",
   "execution_count": 3,
   "outputs": [],
   "source": [
    "from hello.models import Rower"
   ],
   "metadata": {
    "collapsed": false,
    "ExecuteTime": {
     "end_time": "2024-08-20T16:20:28.862893600Z",
     "start_time": "2024-08-20T16:20:28.844733300Z"
    }
   },
   "id": "51bcb75ce64973a1"
  },
  {
   "cell_type": "markdown",
   "id": "6f06caec",
   "metadata": {},
   "source": [
    "Dodajmy kilka wpisów"
   ]
  },
  {
   "cell_type": "code",
   "execution_count": 9,
   "id": "be19a585",
   "metadata": {
    "ExecuteTime": {
     "end_time": "2024-08-20T16:24:22.751950800Z",
     "start_time": "2024-08-20T16:24:22.533767300Z"
    }
   },
   "outputs": [
    {
     "ename": "ValueError",
     "evalue": "Field 'id' expected a number but got ''.",
     "output_type": "error",
     "traceback": [
      "\u001B[1;31m---------------------------------------------------------------------------\u001B[0m",
      "\u001B[1;31mValueError\u001B[0m                                Traceback (most recent call last)",
      "File \u001B[1;32m~\\PycharmProjects\\repobe\\venv\\Lib\\site-packages\\django\\db\\models\\fields\\__init__.py:2123\u001B[0m, in \u001B[0;36mIntegerField.get_prep_value\u001B[1;34m(self, value)\u001B[0m\n\u001B[0;32m   2122\u001B[0m \u001B[38;5;28;01mtry\u001B[39;00m:\n\u001B[1;32m-> 2123\u001B[0m     \u001B[38;5;28;01mreturn\u001B[39;00m \u001B[38;5;28;43mint\u001B[39;49m\u001B[43m(\u001B[49m\u001B[43mvalue\u001B[49m\u001B[43m)\u001B[49m\n\u001B[0;32m   2124\u001B[0m \u001B[38;5;28;01mexcept\u001B[39;00m (\u001B[38;5;167;01mTypeError\u001B[39;00m, \u001B[38;5;167;01mValueError\u001B[39;00m) \u001B[38;5;28;01mas\u001B[39;00m e:\n",
      "\u001B[1;31mValueError\u001B[0m: invalid literal for int() with base 10: ''",
      "\nThe above exception was the direct cause of the following exception:\n",
      "\u001B[1;31mValueError\u001B[0m                                Traceback (most recent call last)",
      "Cell \u001B[1;32mIn[9], line 1\u001B[0m\n\u001B[1;32m----> 1\u001B[0m rower1 \u001B[38;5;241m=\u001B[39m \u001B[43mRower\u001B[49m\u001B[38;5;241;43m.\u001B[39;49m\u001B[43mobjects\u001B[49m\u001B[38;5;241;43m.\u001B[39;49m\u001B[43mcreate\u001B[49m\u001B[43m(\u001B[49m\n\u001B[0;32m      2\u001B[0m \u001B[43m    \u001B[49m\u001B[38;5;28;43mtype\u001B[39;49m\u001B[43m \u001B[49m\u001B[38;5;241;43m=\u001B[39;49m\u001B[43m \u001B[49m\u001B[38;5;124;43m\"\u001B[39;49m\u001B[38;5;124;43mMen\u001B[39;49m\u001B[38;5;124;43m\"\u001B[39;49m\u001B[43m,\u001B[49m\n\u001B[0;32m      3\u001B[0m \u001B[43m    \u001B[49m\u001B[43mnumber\u001B[49m\u001B[38;5;241;43m=\u001B[39;49m\u001B[38;5;241;43m5\u001B[39;49m\u001B[43m,\u001B[49m\n\u001B[0;32m      4\u001B[0m \u001B[43m    \u001B[49m\u001B[43mprice\u001B[49m\u001B[38;5;241;43m=\u001B[39;49m\u001B[38;5;241;43m35\u001B[39;49m\u001B[43m,\u001B[49m\n\u001B[0;32m      5\u001B[0m \u001B[43m    \u001B[49m\u001B[38;5;28;43mid\u001B[39;49m\u001B[43m \u001B[49m\u001B[38;5;241;43m=\u001B[39;49m\u001B[43m \u001B[49m\u001B[38;5;124;43m'\u001B[39;49m\u001B[38;5;124;43m'\u001B[39;49m\u001B[43m,\u001B[49m\n\u001B[0;32m      6\u001B[0m \u001B[43m)\u001B[49m\n\u001B[0;32m      8\u001B[0m rower2 \u001B[38;5;241m=\u001B[39m Rower\u001B[38;5;241m.\u001B[39mobjects\u001B[38;5;241m.\u001B[39mcreate(\n\u001B[0;32m      9\u001B[0m     \u001B[38;5;28mtype\u001B[39m \u001B[38;5;241m=\u001B[39m \u001B[38;5;124m\"\u001B[39m\u001B[38;5;124mWomen\u001B[39m\u001B[38;5;124m\"\u001B[39m,\n\u001B[0;32m     10\u001B[0m     number\u001B[38;5;241m=\u001B[39m\u001B[38;5;241m5\u001B[39m,\n\u001B[0;32m     11\u001B[0m     price\u001B[38;5;241m=\u001B[39m\u001B[38;5;241m35\u001B[39m,\n\u001B[0;32m     12\u001B[0m     \u001B[38;5;28mid\u001B[39m \u001B[38;5;241m=\u001B[39m \u001B[38;5;124m'\u001B[39m\u001B[38;5;124m'\u001B[39m,\n\u001B[0;32m     13\u001B[0m )\n\u001B[0;32m     15\u001B[0m rower3 \u001B[38;5;241m=\u001B[39m Rower\u001B[38;5;241m.\u001B[39mobjects\u001B[38;5;241m.\u001B[39mcreate(\n\u001B[0;32m     16\u001B[0m     \u001B[38;5;28mtype\u001B[39m \u001B[38;5;241m=\u001B[39m \u001B[38;5;124m\"\u001B[39m\u001B[38;5;124mchild\u001B[39m\u001B[38;5;124m\"\u001B[39m,\n\u001B[0;32m     17\u001B[0m     number\u001B[38;5;241m=\u001B[39m\u001B[38;5;241m2\u001B[39m,\n\u001B[0;32m     18\u001B[0m     price\u001B[38;5;241m=\u001B[39m\u001B[38;5;241m15\u001B[39m,\n\u001B[0;32m     19\u001B[0m     \u001B[38;5;28mid\u001B[39m \u001B[38;5;241m=\u001B[39m \u001B[38;5;124m'\u001B[39m\u001B[38;5;124m'\u001B[39m\n\u001B[0;32m     20\u001B[0m )\n",
      "File \u001B[1;32m~\\PycharmProjects\\repobe\\venv\\Lib\\site-packages\\django\\db\\models\\manager.py:87\u001B[0m, in \u001B[0;36mBaseManager._get_queryset_methods.<locals>.create_method.<locals>.manager_method\u001B[1;34m(self, *args, **kwargs)\u001B[0m\n\u001B[0;32m     85\u001B[0m \u001B[38;5;129m@wraps\u001B[39m(method)\n\u001B[0;32m     86\u001B[0m \u001B[38;5;28;01mdef\u001B[39;00m \u001B[38;5;21mmanager_method\u001B[39m(\u001B[38;5;28mself\u001B[39m, \u001B[38;5;241m*\u001B[39margs, \u001B[38;5;241m*\u001B[39m\u001B[38;5;241m*\u001B[39mkwargs):\n\u001B[1;32m---> 87\u001B[0m     \u001B[38;5;28;01mreturn\u001B[39;00m \u001B[38;5;28;43mgetattr\u001B[39;49m\u001B[43m(\u001B[49m\u001B[38;5;28;43mself\u001B[39;49m\u001B[38;5;241;43m.\u001B[39;49m\u001B[43mget_queryset\u001B[49m\u001B[43m(\u001B[49m\u001B[43m)\u001B[49m\u001B[43m,\u001B[49m\u001B[43m \u001B[49m\u001B[43mname\u001B[49m\u001B[43m)\u001B[49m\u001B[43m(\u001B[49m\u001B[38;5;241;43m*\u001B[39;49m\u001B[43margs\u001B[49m\u001B[43m,\u001B[49m\u001B[43m \u001B[49m\u001B[38;5;241;43m*\u001B[39;49m\u001B[38;5;241;43m*\u001B[39;49m\u001B[43mkwargs\u001B[49m\u001B[43m)\u001B[49m\n",
      "File \u001B[1;32m~\\PycharmProjects\\repobe\\venv\\Lib\\site-packages\\django\\db\\models\\query.py:679\u001B[0m, in \u001B[0;36mQuerySet.create\u001B[1;34m(self, **kwargs)\u001B[0m\n\u001B[0;32m    677\u001B[0m obj \u001B[38;5;241m=\u001B[39m \u001B[38;5;28mself\u001B[39m\u001B[38;5;241m.\u001B[39mmodel(\u001B[38;5;241m*\u001B[39m\u001B[38;5;241m*\u001B[39mkwargs)\n\u001B[0;32m    678\u001B[0m \u001B[38;5;28mself\u001B[39m\u001B[38;5;241m.\u001B[39m_for_write \u001B[38;5;241m=\u001B[39m \u001B[38;5;28;01mTrue\u001B[39;00m\n\u001B[1;32m--> 679\u001B[0m \u001B[43mobj\u001B[49m\u001B[38;5;241;43m.\u001B[39;49m\u001B[43msave\u001B[49m\u001B[43m(\u001B[49m\u001B[43mforce_insert\u001B[49m\u001B[38;5;241;43m=\u001B[39;49m\u001B[38;5;28;43;01mTrue\u001B[39;49;00m\u001B[43m,\u001B[49m\u001B[43m \u001B[49m\u001B[43musing\u001B[49m\u001B[38;5;241;43m=\u001B[39;49m\u001B[38;5;28;43mself\u001B[39;49m\u001B[38;5;241;43m.\u001B[39;49m\u001B[43mdb\u001B[49m\u001B[43m)\u001B[49m\n\u001B[0;32m    680\u001B[0m \u001B[38;5;28;01mreturn\u001B[39;00m obj\n",
      "File \u001B[1;32m~\\PycharmProjects\\repobe\\venv\\Lib\\site-packages\\django\\db\\models\\base.py:891\u001B[0m, in \u001B[0;36mModel.save\u001B[1;34m(self, force_insert, force_update, using, update_fields, *args)\u001B[0m\n\u001B[0;32m    888\u001B[0m     \u001B[38;5;28;01mif\u001B[39;00m loaded_fields:\n\u001B[0;32m    889\u001B[0m         update_fields \u001B[38;5;241m=\u001B[39m \u001B[38;5;28mfrozenset\u001B[39m(loaded_fields)\n\u001B[1;32m--> 891\u001B[0m \u001B[38;5;28;43mself\u001B[39;49m\u001B[38;5;241;43m.\u001B[39;49m\u001B[43msave_base\u001B[49m\u001B[43m(\u001B[49m\n\u001B[0;32m    892\u001B[0m \u001B[43m    \u001B[49m\u001B[43musing\u001B[49m\u001B[38;5;241;43m=\u001B[39;49m\u001B[43musing\u001B[49m\u001B[43m,\u001B[49m\n\u001B[0;32m    893\u001B[0m \u001B[43m    \u001B[49m\u001B[43mforce_insert\u001B[49m\u001B[38;5;241;43m=\u001B[39;49m\u001B[43mforce_insert\u001B[49m\u001B[43m,\u001B[49m\n\u001B[0;32m    894\u001B[0m \u001B[43m    \u001B[49m\u001B[43mforce_update\u001B[49m\u001B[38;5;241;43m=\u001B[39;49m\u001B[43mforce_update\u001B[49m\u001B[43m,\u001B[49m\n\u001B[0;32m    895\u001B[0m \u001B[43m    \u001B[49m\u001B[43mupdate_fields\u001B[49m\u001B[38;5;241;43m=\u001B[39;49m\u001B[43mupdate_fields\u001B[49m\u001B[43m,\u001B[49m\n\u001B[0;32m    896\u001B[0m \u001B[43m\u001B[49m\u001B[43m)\u001B[49m\n",
      "File \u001B[1;32m~\\PycharmProjects\\repobe\\venv\\Lib\\site-packages\\django\\db\\models\\base.py:997\u001B[0m, in \u001B[0;36mModel.save_base\u001B[1;34m(self, raw, force_insert, force_update, using, update_fields)\u001B[0m\n\u001B[0;32m    993\u001B[0m         force_insert \u001B[38;5;241m=\u001B[39m \u001B[38;5;28mself\u001B[39m\u001B[38;5;241m.\u001B[39m_validate_force_insert(force_insert)\n\u001B[0;32m    994\u001B[0m         parent_inserted \u001B[38;5;241m=\u001B[39m \u001B[38;5;28mself\u001B[39m\u001B[38;5;241m.\u001B[39m_save_parents(\n\u001B[0;32m    995\u001B[0m             \u001B[38;5;28mcls\u001B[39m, using, update_fields, force_insert\n\u001B[0;32m    996\u001B[0m         )\n\u001B[1;32m--> 997\u001B[0m     updated \u001B[38;5;241m=\u001B[39m \u001B[38;5;28;43mself\u001B[39;49m\u001B[38;5;241;43m.\u001B[39;49m\u001B[43m_save_table\u001B[49m\u001B[43m(\u001B[49m\n\u001B[0;32m    998\u001B[0m \u001B[43m        \u001B[49m\u001B[43mraw\u001B[49m\u001B[43m,\u001B[49m\n\u001B[0;32m    999\u001B[0m \u001B[43m        \u001B[49m\u001B[38;5;28;43mcls\u001B[39;49m\u001B[43m,\u001B[49m\n\u001B[0;32m   1000\u001B[0m \u001B[43m        \u001B[49m\u001B[43mforce_insert\u001B[49m\u001B[43m \u001B[49m\u001B[38;5;129;43;01mor\u001B[39;49;00m\u001B[43m \u001B[49m\u001B[43mparent_inserted\u001B[49m\u001B[43m,\u001B[49m\n\u001B[0;32m   1001\u001B[0m \u001B[43m        \u001B[49m\u001B[43mforce_update\u001B[49m\u001B[43m,\u001B[49m\n\u001B[0;32m   1002\u001B[0m \u001B[43m        \u001B[49m\u001B[43musing\u001B[49m\u001B[43m,\u001B[49m\n\u001B[0;32m   1003\u001B[0m \u001B[43m        \u001B[49m\u001B[43mupdate_fields\u001B[49m\u001B[43m,\u001B[49m\n\u001B[0;32m   1004\u001B[0m \u001B[43m    \u001B[49m\u001B[43m)\u001B[49m\n\u001B[0;32m   1005\u001B[0m \u001B[38;5;66;03m# Store the database on which the object was saved\u001B[39;00m\n\u001B[0;32m   1006\u001B[0m \u001B[38;5;28mself\u001B[39m\u001B[38;5;241m.\u001B[39m_state\u001B[38;5;241m.\u001B[39mdb \u001B[38;5;241m=\u001B[39m using\n",
      "File \u001B[1;32m~\\PycharmProjects\\repobe\\venv\\Lib\\site-packages\\django\\db\\models\\base.py:1160\u001B[0m, in \u001B[0;36mModel._save_table\u001B[1;34m(self, raw, cls, force_insert, force_update, using, update_fields)\u001B[0m\n\u001B[0;32m   1154\u001B[0m fields \u001B[38;5;241m=\u001B[39m [\n\u001B[0;32m   1155\u001B[0m     f\n\u001B[0;32m   1156\u001B[0m     \u001B[38;5;28;01mfor\u001B[39;00m f \u001B[38;5;129;01min\u001B[39;00m meta\u001B[38;5;241m.\u001B[39mlocal_concrete_fields\n\u001B[0;32m   1157\u001B[0m     \u001B[38;5;28;01mif\u001B[39;00m \u001B[38;5;129;01mnot\u001B[39;00m f\u001B[38;5;241m.\u001B[39mgenerated \u001B[38;5;129;01mand\u001B[39;00m (pk_set \u001B[38;5;129;01mor\u001B[39;00m f \u001B[38;5;129;01mis\u001B[39;00m \u001B[38;5;129;01mnot\u001B[39;00m meta\u001B[38;5;241m.\u001B[39mauto_field)\n\u001B[0;32m   1158\u001B[0m ]\n\u001B[0;32m   1159\u001B[0m returning_fields \u001B[38;5;241m=\u001B[39m meta\u001B[38;5;241m.\u001B[39mdb_returning_fields\n\u001B[1;32m-> 1160\u001B[0m results \u001B[38;5;241m=\u001B[39m \u001B[38;5;28;43mself\u001B[39;49m\u001B[38;5;241;43m.\u001B[39;49m\u001B[43m_do_insert\u001B[49m\u001B[43m(\u001B[49m\n\u001B[0;32m   1161\u001B[0m \u001B[43m    \u001B[49m\u001B[38;5;28;43mcls\u001B[39;49m\u001B[38;5;241;43m.\u001B[39;49m\u001B[43m_base_manager\u001B[49m\u001B[43m,\u001B[49m\u001B[43m \u001B[49m\u001B[43musing\u001B[49m\u001B[43m,\u001B[49m\u001B[43m \u001B[49m\u001B[43mfields\u001B[49m\u001B[43m,\u001B[49m\u001B[43m \u001B[49m\u001B[43mreturning_fields\u001B[49m\u001B[43m,\u001B[49m\u001B[43m \u001B[49m\u001B[43mraw\u001B[49m\n\u001B[0;32m   1162\u001B[0m \u001B[43m\u001B[49m\u001B[43m)\u001B[49m\n\u001B[0;32m   1163\u001B[0m \u001B[38;5;28;01mif\u001B[39;00m results:\n\u001B[0;32m   1164\u001B[0m     \u001B[38;5;28;01mfor\u001B[39;00m value, field \u001B[38;5;129;01min\u001B[39;00m \u001B[38;5;28mzip\u001B[39m(results[\u001B[38;5;241m0\u001B[39m], returning_fields):\n",
      "File \u001B[1;32m~\\PycharmProjects\\repobe\\venv\\Lib\\site-packages\\django\\db\\models\\base.py:1201\u001B[0m, in \u001B[0;36mModel._do_insert\u001B[1;34m(self, manager, using, fields, returning_fields, raw)\u001B[0m\n\u001B[0;32m   1196\u001B[0m \u001B[38;5;28;01mdef\u001B[39;00m \u001B[38;5;21m_do_insert\u001B[39m(\u001B[38;5;28mself\u001B[39m, manager, using, fields, returning_fields, raw):\n\u001B[0;32m   1197\u001B[0m \u001B[38;5;250m    \u001B[39m\u001B[38;5;124;03m\"\"\"\u001B[39;00m\n\u001B[0;32m   1198\u001B[0m \u001B[38;5;124;03m    Do an INSERT. If returning_fields is defined then this method should\u001B[39;00m\n\u001B[0;32m   1199\u001B[0m \u001B[38;5;124;03m    return the newly created data for the model.\u001B[39;00m\n\u001B[0;32m   1200\u001B[0m \u001B[38;5;124;03m    \"\"\"\u001B[39;00m\n\u001B[1;32m-> 1201\u001B[0m     \u001B[38;5;28;01mreturn\u001B[39;00m \u001B[43mmanager\u001B[49m\u001B[38;5;241;43m.\u001B[39;49m\u001B[43m_insert\u001B[49m\u001B[43m(\u001B[49m\n\u001B[0;32m   1202\u001B[0m \u001B[43m        \u001B[49m\u001B[43m[\u001B[49m\u001B[38;5;28;43mself\u001B[39;49m\u001B[43m]\u001B[49m\u001B[43m,\u001B[49m\n\u001B[0;32m   1203\u001B[0m \u001B[43m        \u001B[49m\u001B[43mfields\u001B[49m\u001B[38;5;241;43m=\u001B[39;49m\u001B[43mfields\u001B[49m\u001B[43m,\u001B[49m\n\u001B[0;32m   1204\u001B[0m \u001B[43m        \u001B[49m\u001B[43mreturning_fields\u001B[49m\u001B[38;5;241;43m=\u001B[39;49m\u001B[43mreturning_fields\u001B[49m\u001B[43m,\u001B[49m\n\u001B[0;32m   1205\u001B[0m \u001B[43m        \u001B[49m\u001B[43musing\u001B[49m\u001B[38;5;241;43m=\u001B[39;49m\u001B[43musing\u001B[49m\u001B[43m,\u001B[49m\n\u001B[0;32m   1206\u001B[0m \u001B[43m        \u001B[49m\u001B[43mraw\u001B[49m\u001B[38;5;241;43m=\u001B[39;49m\u001B[43mraw\u001B[49m\u001B[43m,\u001B[49m\n\u001B[0;32m   1207\u001B[0m \u001B[43m    \u001B[49m\u001B[43m)\u001B[49m\n",
      "File \u001B[1;32m~\\PycharmProjects\\repobe\\venv\\Lib\\site-packages\\django\\db\\models\\manager.py:87\u001B[0m, in \u001B[0;36mBaseManager._get_queryset_methods.<locals>.create_method.<locals>.manager_method\u001B[1;34m(self, *args, **kwargs)\u001B[0m\n\u001B[0;32m     85\u001B[0m \u001B[38;5;129m@wraps\u001B[39m(method)\n\u001B[0;32m     86\u001B[0m \u001B[38;5;28;01mdef\u001B[39;00m \u001B[38;5;21mmanager_method\u001B[39m(\u001B[38;5;28mself\u001B[39m, \u001B[38;5;241m*\u001B[39margs, \u001B[38;5;241m*\u001B[39m\u001B[38;5;241m*\u001B[39mkwargs):\n\u001B[1;32m---> 87\u001B[0m     \u001B[38;5;28;01mreturn\u001B[39;00m \u001B[38;5;28;43mgetattr\u001B[39;49m\u001B[43m(\u001B[49m\u001B[38;5;28;43mself\u001B[39;49m\u001B[38;5;241;43m.\u001B[39;49m\u001B[43mget_queryset\u001B[49m\u001B[43m(\u001B[49m\u001B[43m)\u001B[49m\u001B[43m,\u001B[49m\u001B[43m \u001B[49m\u001B[43mname\u001B[49m\u001B[43m)\u001B[49m\u001B[43m(\u001B[49m\u001B[38;5;241;43m*\u001B[39;49m\u001B[43margs\u001B[49m\u001B[43m,\u001B[49m\u001B[43m \u001B[49m\u001B[38;5;241;43m*\u001B[39;49m\u001B[38;5;241;43m*\u001B[39;49m\u001B[43mkwargs\u001B[49m\u001B[43m)\u001B[49m\n",
      "File \u001B[1;32m~\\PycharmProjects\\repobe\\venv\\Lib\\site-packages\\django\\db\\models\\query.py:1847\u001B[0m, in \u001B[0;36mQuerySet._insert\u001B[1;34m(self, objs, fields, returning_fields, raw, using, on_conflict, update_fields, unique_fields)\u001B[0m\n\u001B[0;32m   1840\u001B[0m query \u001B[38;5;241m=\u001B[39m sql\u001B[38;5;241m.\u001B[39mInsertQuery(\n\u001B[0;32m   1841\u001B[0m     \u001B[38;5;28mself\u001B[39m\u001B[38;5;241m.\u001B[39mmodel,\n\u001B[0;32m   1842\u001B[0m     on_conflict\u001B[38;5;241m=\u001B[39mon_conflict,\n\u001B[0;32m   1843\u001B[0m     update_fields\u001B[38;5;241m=\u001B[39mupdate_fields,\n\u001B[0;32m   1844\u001B[0m     unique_fields\u001B[38;5;241m=\u001B[39munique_fields,\n\u001B[0;32m   1845\u001B[0m )\n\u001B[0;32m   1846\u001B[0m query\u001B[38;5;241m.\u001B[39minsert_values(fields, objs, raw\u001B[38;5;241m=\u001B[39mraw)\n\u001B[1;32m-> 1847\u001B[0m \u001B[38;5;28;01mreturn\u001B[39;00m \u001B[43mquery\u001B[49m\u001B[38;5;241;43m.\u001B[39;49m\u001B[43mget_compiler\u001B[49m\u001B[43m(\u001B[49m\u001B[43musing\u001B[49m\u001B[38;5;241;43m=\u001B[39;49m\u001B[43musing\u001B[49m\u001B[43m)\u001B[49m\u001B[38;5;241;43m.\u001B[39;49m\u001B[43mexecute_sql\u001B[49m\u001B[43m(\u001B[49m\u001B[43mreturning_fields\u001B[49m\u001B[43m)\u001B[49m\n",
      "File \u001B[1;32m~\\PycharmProjects\\repobe\\venv\\Lib\\site-packages\\django\\db\\models\\sql\\compiler.py:1835\u001B[0m, in \u001B[0;36mSQLInsertCompiler.execute_sql\u001B[1;34m(self, returning_fields)\u001B[0m\n\u001B[0;32m   1833\u001B[0m cols \u001B[38;5;241m=\u001B[39m []\n\u001B[0;32m   1834\u001B[0m \u001B[38;5;28;01mwith\u001B[39;00m \u001B[38;5;28mself\u001B[39m\u001B[38;5;241m.\u001B[39mconnection\u001B[38;5;241m.\u001B[39mcursor() \u001B[38;5;28;01mas\u001B[39;00m cursor:\n\u001B[1;32m-> 1835\u001B[0m     \u001B[38;5;28;01mfor\u001B[39;00m sql, params \u001B[38;5;129;01min\u001B[39;00m \u001B[38;5;28;43mself\u001B[39;49m\u001B[38;5;241;43m.\u001B[39;49m\u001B[43mas_sql\u001B[49m\u001B[43m(\u001B[49m\u001B[43m)\u001B[49m:\n\u001B[0;32m   1836\u001B[0m         cursor\u001B[38;5;241m.\u001B[39mexecute(sql, params)\n\u001B[0;32m   1837\u001B[0m     \u001B[38;5;28;01mif\u001B[39;00m \u001B[38;5;129;01mnot\u001B[39;00m \u001B[38;5;28mself\u001B[39m\u001B[38;5;241m.\u001B[39mreturning_fields:\n",
      "File \u001B[1;32m~\\PycharmProjects\\repobe\\venv\\Lib\\site-packages\\django\\db\\models\\sql\\compiler.py:1760\u001B[0m, in \u001B[0;36mSQLInsertCompiler.as_sql\u001B[1;34m(self)\u001B[0m\n\u001B[0;32m   1755\u001B[0m result\u001B[38;5;241m.\u001B[39mappend(\u001B[38;5;124m\"\u001B[39m\u001B[38;5;124m(\u001B[39m\u001B[38;5;132;01m%s\u001B[39;00m\u001B[38;5;124m)\u001B[39m\u001B[38;5;124m\"\u001B[39m \u001B[38;5;241m%\u001B[39m \u001B[38;5;124m\"\u001B[39m\u001B[38;5;124m, \u001B[39m\u001B[38;5;124m\"\u001B[39m\u001B[38;5;241m.\u001B[39mjoin(qn(f\u001B[38;5;241m.\u001B[39mcolumn) \u001B[38;5;28;01mfor\u001B[39;00m f \u001B[38;5;129;01min\u001B[39;00m fields))\n\u001B[0;32m   1757\u001B[0m \u001B[38;5;28;01mif\u001B[39;00m \u001B[38;5;28mself\u001B[39m\u001B[38;5;241m.\u001B[39mquery\u001B[38;5;241m.\u001B[39mfields:\n\u001B[0;32m   1758\u001B[0m     value_rows \u001B[38;5;241m=\u001B[39m [\n\u001B[0;32m   1759\u001B[0m         [\n\u001B[1;32m-> 1760\u001B[0m             \u001B[38;5;28;43mself\u001B[39;49m\u001B[38;5;241;43m.\u001B[39;49m\u001B[43mprepare_value\u001B[49m\u001B[43m(\u001B[49m\u001B[43mfield\u001B[49m\u001B[43m,\u001B[49m\u001B[43m \u001B[49m\u001B[38;5;28;43mself\u001B[39;49m\u001B[38;5;241;43m.\u001B[39;49m\u001B[43mpre_save_val\u001B[49m\u001B[43m(\u001B[49m\u001B[43mfield\u001B[49m\u001B[43m,\u001B[49m\u001B[43m \u001B[49m\u001B[43mobj\u001B[49m\u001B[43m)\u001B[49m\u001B[43m)\u001B[49m\n\u001B[0;32m   1761\u001B[0m             \u001B[38;5;28;01mfor\u001B[39;00m field \u001B[38;5;129;01min\u001B[39;00m fields\n\u001B[0;32m   1762\u001B[0m         ]\n\u001B[0;32m   1763\u001B[0m         \u001B[38;5;28;01mfor\u001B[39;00m obj \u001B[38;5;129;01min\u001B[39;00m \u001B[38;5;28mself\u001B[39m\u001B[38;5;241m.\u001B[39mquery\u001B[38;5;241m.\u001B[39mobjs\n\u001B[0;32m   1764\u001B[0m     ]\n\u001B[0;32m   1765\u001B[0m \u001B[38;5;28;01melse\u001B[39;00m:\n\u001B[0;32m   1766\u001B[0m     \u001B[38;5;66;03m# An empty object.\u001B[39;00m\n\u001B[0;32m   1767\u001B[0m     value_rows \u001B[38;5;241m=\u001B[39m [\n\u001B[0;32m   1768\u001B[0m         [\u001B[38;5;28mself\u001B[39m\u001B[38;5;241m.\u001B[39mconnection\u001B[38;5;241m.\u001B[39mops\u001B[38;5;241m.\u001B[39mpk_default_value()] \u001B[38;5;28;01mfor\u001B[39;00m _ \u001B[38;5;129;01min\u001B[39;00m \u001B[38;5;28mself\u001B[39m\u001B[38;5;241m.\u001B[39mquery\u001B[38;5;241m.\u001B[39mobjs\n\u001B[0;32m   1769\u001B[0m     ]\n",
      "File \u001B[1;32m~\\PycharmProjects\\repobe\\venv\\Lib\\site-packages\\django\\db\\models\\sql\\compiler.py:1699\u001B[0m, in \u001B[0;36mSQLInsertCompiler.prepare_value\u001B[1;34m(self, field, value)\u001B[0m\n\u001B[0;32m   1694\u001B[0m     \u001B[38;5;28;01mif\u001B[39;00m value\u001B[38;5;241m.\u001B[39mcontains_over_clause:\n\u001B[0;32m   1695\u001B[0m         \u001B[38;5;28;01mraise\u001B[39;00m FieldError(\n\u001B[0;32m   1696\u001B[0m             \u001B[38;5;124m\"\u001B[39m\u001B[38;5;124mWindow expressions are not allowed in this query (\u001B[39m\u001B[38;5;132;01m%s\u001B[39;00m\u001B[38;5;124m=\u001B[39m\u001B[38;5;132;01m%r\u001B[39;00m\u001B[38;5;124m).\u001B[39m\u001B[38;5;124m\"\u001B[39m\n\u001B[0;32m   1697\u001B[0m             \u001B[38;5;241m%\u001B[39m (field\u001B[38;5;241m.\u001B[39mname, value)\n\u001B[0;32m   1698\u001B[0m         )\n\u001B[1;32m-> 1699\u001B[0m \u001B[38;5;28;01mreturn\u001B[39;00m \u001B[43mfield\u001B[49m\u001B[38;5;241;43m.\u001B[39;49m\u001B[43mget_db_prep_save\u001B[49m\u001B[43m(\u001B[49m\u001B[43mvalue\u001B[49m\u001B[43m,\u001B[49m\u001B[43m \u001B[49m\u001B[43mconnection\u001B[49m\u001B[38;5;241;43m=\u001B[39;49m\u001B[38;5;28;43mself\u001B[39;49m\u001B[38;5;241;43m.\u001B[39;49m\u001B[43mconnection\u001B[49m\u001B[43m)\u001B[49m\n",
      "File \u001B[1;32m~\\PycharmProjects\\repobe\\venv\\Lib\\site-packages\\django\\db\\models\\fields\\__init__.py:1008\u001B[0m, in \u001B[0;36mField.get_db_prep_save\u001B[1;34m(self, value, connection)\u001B[0m\n\u001B[0;32m   1006\u001B[0m \u001B[38;5;28;01mif\u001B[39;00m \u001B[38;5;28mhasattr\u001B[39m(value, \u001B[38;5;124m\"\u001B[39m\u001B[38;5;124mas_sql\u001B[39m\u001B[38;5;124m\"\u001B[39m):\n\u001B[0;32m   1007\u001B[0m     \u001B[38;5;28;01mreturn\u001B[39;00m value\n\u001B[1;32m-> 1008\u001B[0m \u001B[38;5;28;01mreturn\u001B[39;00m \u001B[38;5;28;43mself\u001B[39;49m\u001B[38;5;241;43m.\u001B[39;49m\u001B[43mget_db_prep_value\u001B[49m\u001B[43m(\u001B[49m\u001B[43mvalue\u001B[49m\u001B[43m,\u001B[49m\u001B[43m \u001B[49m\u001B[43mconnection\u001B[49m\u001B[38;5;241;43m=\u001B[39;49m\u001B[43mconnection\u001B[49m\u001B[43m,\u001B[49m\u001B[43m \u001B[49m\u001B[43mprepared\u001B[49m\u001B[38;5;241;43m=\u001B[39;49m\u001B[38;5;28;43;01mFalse\u001B[39;49;00m\u001B[43m)\u001B[49m\n",
      "File \u001B[1;32m~\\PycharmProjects\\repobe\\venv\\Lib\\site-packages\\django\\db\\models\\fields\\__init__.py:2815\u001B[0m, in \u001B[0;36mAutoFieldMixin.get_db_prep_value\u001B[1;34m(self, value, connection, prepared)\u001B[0m\n\u001B[0;32m   2813\u001B[0m \u001B[38;5;28;01mdef\u001B[39;00m \u001B[38;5;21mget_db_prep_value\u001B[39m(\u001B[38;5;28mself\u001B[39m, value, connection, prepared\u001B[38;5;241m=\u001B[39m\u001B[38;5;28;01mFalse\u001B[39;00m):\n\u001B[0;32m   2814\u001B[0m     \u001B[38;5;28;01mif\u001B[39;00m \u001B[38;5;129;01mnot\u001B[39;00m prepared:\n\u001B[1;32m-> 2815\u001B[0m         value \u001B[38;5;241m=\u001B[39m \u001B[38;5;28;43mself\u001B[39;49m\u001B[38;5;241;43m.\u001B[39;49m\u001B[43mget_prep_value\u001B[49m\u001B[43m(\u001B[49m\u001B[43mvalue\u001B[49m\u001B[43m)\u001B[49m\n\u001B[0;32m   2816\u001B[0m         value \u001B[38;5;241m=\u001B[39m connection\u001B[38;5;241m.\u001B[39mops\u001B[38;5;241m.\u001B[39mvalidate_autopk_value(value)\n\u001B[0;32m   2817\u001B[0m     \u001B[38;5;28;01mreturn\u001B[39;00m value\n",
      "File \u001B[1;32m~\\PycharmProjects\\repobe\\venv\\Lib\\site-packages\\django\\db\\models\\fields\\__init__.py:2125\u001B[0m, in \u001B[0;36mIntegerField.get_prep_value\u001B[1;34m(self, value)\u001B[0m\n\u001B[0;32m   2123\u001B[0m     \u001B[38;5;28;01mreturn\u001B[39;00m \u001B[38;5;28mint\u001B[39m(value)\n\u001B[0;32m   2124\u001B[0m \u001B[38;5;28;01mexcept\u001B[39;00m (\u001B[38;5;167;01mTypeError\u001B[39;00m, \u001B[38;5;167;01mValueError\u001B[39;00m) \u001B[38;5;28;01mas\u001B[39;00m e:\n\u001B[1;32m-> 2125\u001B[0m     \u001B[38;5;28;01mraise\u001B[39;00m e\u001B[38;5;241m.\u001B[39m\u001B[38;5;18m__class__\u001B[39m(\n\u001B[0;32m   2126\u001B[0m         \u001B[38;5;124m\"\u001B[39m\u001B[38;5;124mField \u001B[39m\u001B[38;5;124m'\u001B[39m\u001B[38;5;132;01m%s\u001B[39;00m\u001B[38;5;124m'\u001B[39m\u001B[38;5;124m expected a number but got \u001B[39m\u001B[38;5;132;01m%r\u001B[39;00m\u001B[38;5;124m.\u001B[39m\u001B[38;5;124m\"\u001B[39m \u001B[38;5;241m%\u001B[39m (\u001B[38;5;28mself\u001B[39m\u001B[38;5;241m.\u001B[39mname, value),\n\u001B[0;32m   2127\u001B[0m     ) \u001B[38;5;28;01mfrom\u001B[39;00m \u001B[38;5;21;01me\u001B[39;00m\n",
      "\u001B[1;31mValueError\u001B[0m: Field 'id' expected a number but got ''."
     ]
    }
   ],
   "source": [
    "rower1 = Rower.objects.create(\n",
    "    type = \"Men\",\n",
    "    number=5,\n",
    "    price=35,\n",
    "    id = '',\n",
    ")\n",
    "\n",
    "rower2 = Rower.objects.create(\n",
    "    type = \"Women\",\n",
    "    number=5,\n",
    "    price=35,\n",
    "    id = '',\n",
    ")\n",
    "\n",
    "rower3 = Rower.objects.create(\n",
    "    type = \"child\",\n",
    "    number=2,\n",
    "    price=15,\n",
    "    id = ''\n",
    ")"
   ]
  },
  {
   "cell_type": "code",
   "execution_count": 14,
   "id": "6dbf10a9-6814-44fd-beee-6d8d7c613cef",
   "metadata": {
    "ExecuteTime": {
     "end_time": "2024-08-20T16:24:57.905643300Z",
     "start_time": "2024-08-20T16:24:57.847600300Z"
    }
   },
   "outputs": [],
   "source": [
    "product1 = Product.objects.create(\n",
    "    title='rower_men',\n",
    "    manufacturer='romet',\n",
    "    price=35,\n",
    "    a='1.png',\n",
    "    b='6',\n",
    "    c='',\n",
    "    product_secret_id='1111'\n",
    ")\n",
    "\n",
    "product2 = Product.objects.create(\n",
    "    title='rower_women',\n",
    "    manufacturer='romet',\n",
    "    price=35,\n",
    "    a='2.png',\n",
    "    b='6',\n",
    "    c='',\n",
    "    product_secret_id='2222'\n",
    ")\n",
    "\n",
    "product3 = Product.objects.create(\n",
    "    title='rower_kid',\n",
    "    manufacturer='romet',\n",
    "    price=35,\n",
    "    a='3.png',\n",
    "    b='2',\n",
    "    c='',\n",
    "    product_secret_id='3333'\n",
    ")"
   ]
  },
  {
   "cell_type": "markdown",
   "id": "e830105e",
   "metadata": {},
   "source": [
    "I napiszmy zapytanie o wszystkie wpisy w tabelce."
   ]
  },
  {
   "cell_type": "code",
   "execution_count": 11,
   "id": "581d3eed",
   "metadata": {
    "ExecuteTime": {
     "end_time": "2024-08-20T16:24:36.140063700Z",
     "start_time": "2024-08-20T16:24:36.115204100Z"
    }
   },
   "outputs": [
    {
     "ename": "NameError",
     "evalue": "name 'Product' is not defined",
     "output_type": "error",
     "traceback": [
      "\u001B[1;31m---------------------------------------------------------------------------\u001B[0m",
      "\u001B[1;31mNameError\u001B[0m                                 Traceback (most recent call last)",
      "Cell \u001B[1;32mIn[11], line 1\u001B[0m\n\u001B[1;32m----> 1\u001B[0m products \u001B[38;5;241m=\u001B[39m \u001B[43mProduct\u001B[49m\u001B[38;5;241m.\u001B[39mobjects\u001B[38;5;241m.\u001B[39mall()\n\u001B[0;32m      2\u001B[0m \u001B[38;5;28mprint\u001B[39m(products\u001B[38;5;241m.\u001B[39mquery)\n",
      "\u001B[1;31mNameError\u001B[0m: name 'Product' is not defined"
     ]
    }
   ],
   "source": [
    "products = Product.objects.all()\n",
    "print(products.query)"
   ]
  },
  {
   "cell_type": "markdown",
   "id": "9f8afc16",
   "metadata": {},
   "source": [
    "Powyższe zapytanie zwraca nam wartości WSZYSTKICH KOLUMN ze wszystkich wpisów w tabelce. Jak napisać zapytanie, które wyciągnie wartości tylko z wybranych kolumn?"
   ]
  },
  {
   "cell_type": "markdown",
   "id": "f85b6307",
   "metadata": {},
   "source": [
    "Możemy oczywiście wyciągnąć z queryseta tylko te wartości, które nas interesują"
   ]
  },
  {
   "cell_type": "code",
   "execution_count": 15,
   "id": "9d26e08d",
   "metadata": {
    "ExecuteTime": {
     "end_time": "2024-08-20T16:25:07.168353Z",
     "start_time": "2024-08-20T16:25:07.145354800Z"
    }
   },
   "outputs": [
    {
     "ename": "NameError",
     "evalue": "name 'products' is not defined",
     "output_type": "error",
     "traceback": [
      "\u001B[1;31m---------------------------------------------------------------------------\u001B[0m",
      "\u001B[1;31mNameError\u001B[0m                                 Traceback (most recent call last)",
      "Cell \u001B[1;32mIn[15], line 1\u001B[0m\n\u001B[1;32m----> 1\u001B[0m [(product\u001B[38;5;241m.\u001B[39mtitle, product\u001B[38;5;241m.\u001B[39mmanufacturer, product\u001B[38;5;241m.\u001B[39mprice) \u001B[38;5;28;01mfor\u001B[39;00m product \u001B[38;5;129;01min\u001B[39;00m \u001B[43mproducts\u001B[49m]\n",
      "\u001B[1;31mNameError\u001B[0m: name 'products' is not defined"
     ]
    }
   ],
   "source": [
    "[(product.title, product.manufacturer, product.price) for product in products]"
   ]
  },
  {
   "cell_type": "markdown",
   "id": "b0853b23",
   "metadata": {},
   "source": [
    "Ale w ten sposób wciąż wyciągamy z bazy znacznie więcej informacji niż jest nam potrzebne (i dopiero w pythonie wybieramy z tego wyciąganiętego zbiory tylko te informacje, które nas interesują). Może to generować szereg poważnych problemów:\n",
    "- im więcej danych chcemy wyciągnąć z bazy, tym dłużej użytkownicy będą czakać na wykonanie zapytania (oraz przesyłanie wyciągniętych danych) \n",
    "- w czasie kiedy wykonywane jest zapytanie na bazie inne zapytania muszą czekać, co ogranicza liczbę użytkowników jaką nasza aplikacja może płynnie obsłużyc\n",
    "- obecnie, często w rozwiązaniach chmurowych za wykonanie zapytania płaci się proporcjonalnie do czasu wykonywania tego zapytania na bazie, co jeszcze bardziej podnosi rangę problemu\n",
    "\n",
    "Oczywistym staje się potrzeba zminimalizowania ilość danych przesyłanych pomiędzy bazą a aplikacją. Chcemy wyciągnąć z bazy wyłącznie te informacje, które są nam potrzebne (co zawsze jest dobrą praktyką).\n",
    "\n",
    "Mamy 3 metody, których możemy w tym celu użyć:\n",
    "- `only`\n",
    "- `values`\n",
    "- `defer`"
   ]
  },
  {
   "cell_type": "markdown",
   "id": "763f2de8",
   "metadata": {},
   "source": [
    "### only"
   ]
  },
  {
   "cell_type": "code",
   "execution_count": 16,
   "id": "f5df52ee",
   "metadata": {
    "ExecuteTime": {
     "end_time": "2024-08-20T16:25:12.469775500Z",
     "start_time": "2024-08-20T16:25:12.459945900Z"
    }
   },
   "outputs": [
    {
     "name": "stdout",
     "output_type": "stream",
     "text": [
      "SELECT \"orm_app_product\".\"id\", \"orm_app_product\".\"title\", \"orm_app_product\".\"manufacturer\", \"orm_app_product\".\"price\" FROM \"orm_app_product\"\n"
     ]
    }
   ],
   "source": [
    "products = Product.objects.all().only('title', 'manufacturer', 'price')\n",
    "print(products.query)"
   ]
  },
  {
   "cell_type": "code",
   "execution_count": null,
   "outputs": [],
   "source": [],
   "metadata": {
    "collapsed": false
   },
   "id": "d3c3f721236976da"
  },
  {
   "cell_type": "code",
   "execution_count": 18,
   "id": "bac86769",
   "metadata": {
    "ExecuteTime": {
     "end_time": "2024-08-20T16:25:21.412894100Z",
     "start_time": "2024-08-20T16:25:21.399341900Z"
    }
   },
   "outputs": [
    {
     "name": "stdout",
     "output_type": "stream",
     "text": [
      "<QuerySet [<Product: Product object (1)>, <Product: Product object (2)>, <Product: Product object (3)>, <Product: Product object (4)>, <Product: Product object (5)>, <Product: Product object (6)>, <Product: Product object (7)>, <Product: Product object (8)>, <Product: Product object (9)>]>\n"
     ]
    }
   ],
   "source": [
    "print(products)"
   ]
  },
  {
   "cell_type": "markdown",
   "id": "3edfc403",
   "metadata": {},
   "source": [
    "W wyniku otrzymujemy tradycyjnego queryseta, którego wartości to obiekty klasy Product"
   ]
  },
  {
   "cell_type": "markdown",
   "id": "c4a22aff",
   "metadata": {},
   "source": [
    "Użycie `only` nie zabezpiecza nas jednak przed odpytywaniem bazy o pola, których nie wyciągneliśmy z bazy. W takim przypadku django orm po prostu drugi raz uderzy na baze i pobierze tę wartość."
   ]
  },
  {
   "cell_type": "code",
   "execution_count": 19,
   "id": "1d598ef2",
   "metadata": {
    "ExecuteTime": {
     "end_time": "2024-08-20T16:25:25.598994700Z",
     "start_time": "2024-08-20T16:25:25.587844800Z"
    }
   },
   "outputs": [
    {
     "data": {
      "text/plain": "'1.png'"
     },
     "execution_count": 19,
     "metadata": {},
     "output_type": "execute_result"
    }
   ],
   "source": [
    "products[3].a"
   ]
  },
  {
   "cell_type": "markdown",
   "id": "961de44a",
   "metadata": {},
   "source": [
    "W skrajnych przypadkach może to prowadzić do wykonania setek/tysięcy dodatkowych zapytań na bazę. Dlatego należy zwrócić szczególną uwagę na to, żeby w metodzie only umieścić wszystkie pola modelu, które zamierzamy użyć."
   ]
  },
  {
   "cell_type": "markdown",
   "id": "60252c0c",
   "metadata": {},
   "source": [
    "Do dyspozycji mamt też drugą metodą - `values`, która w niektórych scenariuszach moze okazać się lepszym rozwiązaniem."
   ]
  },
  {
   "cell_type": "markdown",
   "id": "1c401415",
   "metadata": {},
   "source": [
    "### values"
   ]
  },
  {
   "cell_type": "code",
   "execution_count": 20,
   "id": "f7fac8f3",
   "metadata": {
    "ExecuteTime": {
     "end_time": "2024-08-20T16:25:41.275082500Z",
     "start_time": "2024-08-20T16:25:41.250870200Z"
    }
   },
   "outputs": [
    {
     "name": "stdout",
     "output_type": "stream",
     "text": [
      "SELECT \"orm_app_product\".\"title\", \"orm_app_product\".\"manufacturer\", \"orm_app_product\".\"price\" FROM \"orm_app_product\"\n"
     ]
    }
   ],
   "source": [
    "products = Product.objects.all().values('title', 'manufacturer', 'price')\n",
    "print(products.query)"
   ]
  },
  {
   "cell_type": "code",
   "execution_count": 11,
   "id": "013db520",
   "metadata": {},
   "outputs": [
    {
     "name": "stdout",
     "output_type": "stream",
     "text": [
      "<QuerySet [{'title': 'test1', 'manufacturer': 'test', 'price': 100}, {'title': 'test2', 'manufacturer': 'test', 'price': 10}, {'title': 'test3', 'manufacturer': 'test', 'price': 1}, {'title': 'rower_men', 'manufacturer': 'romet', 'price': 35}, {'title': 'rower_women', 'manufacturer': 'romet', 'price': 35}, {'title': 'rower_kid', 'manufacturer': 'romet', 'price': 35}]>\n"
     ]
    }
   ],
   "source": [
    "print(products)"
   ]
  },
  {
   "cell_type": "markdown",
   "id": "76b30028",
   "metadata": {},
   "source": [
    "Tym razem dostaliśmy queryset, ale słowników (a nie obiektów klasy Product). "
   ]
  },
  {
   "cell_type": "code",
   "execution_count": 21,
   "id": "32870978",
   "metadata": {
    "ExecuteTime": {
     "end_time": "2024-08-20T16:25:50.857565700Z",
     "start_time": "2024-08-20T16:25:50.845404500Z"
    }
   },
   "outputs": [
    {
     "name": "stdout",
     "output_type": "stream",
     "text": [
      "{'title': 'test1', 'manufacturer': 'test', 'price': 100}\n"
     ]
    }
   ],
   "source": [
    "print(products[0])"
   ]
  },
  {
   "cell_type": "code",
   "execution_count": 13,
   "id": "c91fe3f8",
   "metadata": {},
   "outputs": [
    {
     "name": "stdout",
     "output_type": "stream",
     "text": [
      "<class 'dict'>\n"
     ]
    }
   ],
   "source": [
    "print(type(products[0]))"
   ]
  },
  {
   "cell_type": "markdown",
   "id": "7f97a739",
   "metadata": {},
   "source": [
    "Korzyści:\n",
    "\n",
    "1. słowniki pythonowe zajmują mniej pamięci niż obiekty modelu\n",
    "2. nie jesteśmy już w stanie z pojedynczego elementu tego queryseta wyciągnąć wartość pola, którego nie zawarliśmy w parametrach metody `values`. "
   ]
  },
  {
   "cell_type": "code",
   "execution_count": 22,
   "id": "70bf8962",
   "metadata": {
    "ExecuteTime": {
     "end_time": "2024-08-20T16:25:53.928665500Z",
     "start_time": "2024-08-20T16:25:53.918657100Z"
    }
   },
   "outputs": [
    {
     "name": "stdout",
     "output_type": "stream",
     "text": [
      "test1\n"
     ]
    }
   ],
   "source": [
    "print(products[0]['title'])"
   ]
  },
  {
   "cell_type": "code",
   "execution_count": 15,
   "id": "be242604-2f87-422a-8d4b-b536f00db3d9",
   "metadata": {},
   "outputs": [
    {
     "ename": "KeyError",
     "evalue": "'defer'",
     "output_type": "error",
     "traceback": [
      "\u001B[1;31m---------------------------------------------------------------------------\u001B[0m",
      "\u001B[1;31mKeyError\u001B[0m                                  Traceback (most recent call last)",
      "Cell \u001B[1;32mIn[15], line 1\u001B[0m\n\u001B[1;32m----> 1\u001B[0m \u001B[38;5;28mprint\u001B[39m(\u001B[43mproducts\u001B[49m\u001B[43m[\u001B[49m\u001B[38;5;241;43m0\u001B[39;49m\u001B[43m]\u001B[49m\u001B[43m[\u001B[49m\u001B[38;5;124;43m'\u001B[39;49m\u001B[38;5;124;43mdefer\u001B[39;49m\u001B[38;5;124;43m'\u001B[39;49m\u001B[43m]\u001B[49m)\n",
      "\u001B[1;31mKeyError\u001B[0m: 'defer'"
     ]
    }
   ],
   "source": []
  },
  {
   "cell_type": "markdown",
   "id": "118346b2",
   "metadata": {},
   "source": [
    "Istnieje jeszcze trzecia metoda, której możemy tutaj użyć - `defer`"
   ]
  },
  {
   "cell_type": "markdown",
   "id": "ebace08f",
   "metadata": {},
   "source": [
    "### defer"
   ]
  },
  {
   "cell_type": "code",
   "execution_count": 14,
   "id": "683577d3",
   "metadata": {},
   "outputs": [],
   "source": [
    "# TODO"
   ]
  }
 ],
 "metadata": {
  "kernelspec": {
   "display_name": "Python 3 (ipykernel)",
   "language": "python",
   "name": "python3"
  },
  "language_info": {
   "codemirror_mode": {
    "name": "ipython",
    "version": 3
   },
   "file_extension": ".py",
   "mimetype": "text/x-python",
   "name": "python",
   "nbconvert_exporter": "python",
   "pygments_lexer": "ipython3",
   "version": "3.12.2"
  }
 },
 "nbformat": 4,
 "nbformat_minor": 5
}
